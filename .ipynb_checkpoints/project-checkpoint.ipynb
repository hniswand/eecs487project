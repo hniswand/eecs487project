{
 "cells": [
  {
   "cell_type": "markdown",
   "id": "bored-graduation",
   "metadata": {
    "id": "bored-graduation"
   },
   "source": [
    "# EECS 487 Project: Naive Bayes Classifier of Sentiment Analysis of Contraseptives\n",
    "\n",
    "This notebook contains the code of our project. In the second problem, you will build naive bayes classifiers to distinguish between legitimate news headlines and clickbait."
   ]
  },
  {
   "cell_type": "code",
   "execution_count": 12,
   "id": "angry-large",
   "metadata": {
    "id": "angry-large"
   },
   "outputs": [
    {
     "name": "stdout",
     "output_type": "stream",
     "text": [
      "Requirement already satisfied: nltk in /Users/yousolbae/anaconda3/lib/python3.11/site-packages (3.8.1)\n",
      "Requirement already satisfied: click in /Users/yousolbae/anaconda3/lib/python3.11/site-packages (from nltk) (8.0.4)\n",
      "Requirement already satisfied: joblib in /Users/yousolbae/anaconda3/lib/python3.11/site-packages (from nltk) (1.2.0)\n",
      "Requirement already satisfied: regex>=2021.8.3 in /Users/yousolbae/anaconda3/lib/python3.11/site-packages (from nltk) (2022.7.9)\n",
      "Requirement already satisfied: tqdm in /Users/yousolbae/anaconda3/lib/python3.11/site-packages (from nltk) (4.65.0)\n",
      "3.8.1\n"
     ]
    }
   ],
   "source": [
    "!pip install nltk --upgrade  # after running this line once, you can comment this line out\n",
    "import nltk\n",
    "print(nltk.__version__) # this should print out 3.8.1 if you have installed the latest version of NLTK properly"
   ]
  },
  {
   "cell_type": "markdown",
   "id": "6e6ec2d2",
   "metadata": {
    "id": "6e6ec2d2"
   },
   "source": [
    "Before we get started, run the following cell to load the autoreload extension so that functions in ```language_model.py``` and ```naive_bayes.py``` will be re-imported into the notebook every time we run them. We also need to import all necessary packages."
   ]
  },
  {
   "cell_type": "code",
   "execution_count": 13,
   "id": "94ca6b2e",
   "metadata": {
    "id": "94ca6b2e"
   },
   "outputs": [
    {
     "name": "stdout",
     "output_type": "stream",
     "text": [
      "The autoreload extension is already loaded. To reload it, use:\n",
      "  %reload_ext autoreload\n"
     ]
    }
   ],
   "source": [
    "%load_ext autoreload\n",
    "%autoreload 2\n",
    "\n",
    "import pickle\n",
    "\n",
    "import pandas as pd\n",
    "from sklearn.model_selection import train_test_split\n",
    "from nltk.tokenize import word_tokenize\n",
    "\n",
    "from naive_bayes import *"
   ]
  },
  {
   "cell_type": "markdown",
   "id": "regular-poison",
   "metadata": {
    "id": "regular-poison"
   },
   "source": [
    "## C.2 Naive Bayes for Text Classification [26 points]\n",
    "In this problem, you will build naive bayes classifiers to do text classification. You will use the clickbait headlines dataset, which contains examples of legitimate news headlines and clickbait news headlines. The original dataset can be found in [this GitHub repository](https://github.com/bhargaviparanjape/clickbait) and [this paper](https://arxiv.org/abs/1610.09786).\n",
    "### C.2.1 Load dataset [4 points]\n",
    "To get started, **fill in** the function ```load_headlines``` to load the clickbait dataset into pandas dataframes. The file ```clickbait_data.csv``` contains a partially processed subset of the data. It contains two columns: (1) ```is_clickbait``` is 1 when the row contains a clickbait headline and 0 when it doesn't and (2) ```text```, which contains the headline itself.\n",
    "\n",
    "To get started, **fill in** the function ```load_headlines``` to load the clickbait dataset into a pandas dataframe. To do this, you will need to do the following:\n",
    "\n",
    "1. Read in the ```text``` and ```is_clickbait``` columns.\n",
    "2. Rename the ```is_clickbait``` column to ```label```"
   ]
  },
  {
   "cell_type": "code",
   "execution_count": 31,
   "id": "realistic-execution",
   "metadata": {
    "id": "realistic-execution"
   },
   "outputs": [
    {
     "data": {
      "text/html": [
       "<div>\n",
       "<style scoped>\n",
       "    .dataframe tbody tr th:only-of-type {\n",
       "        vertical-align: middle;\n",
       "    }\n",
       "\n",
       "    .dataframe tbody tr th {\n",
       "        vertical-align: top;\n",
       "    }\n",
       "\n",
       "    .dataframe thead th {\n",
       "        text-align: right;\n",
       "    }\n",
       "</style>\n",
       "<table border=\"1\" class=\"dataframe\">\n",
       "  <thead>\n",
       "    <tr style=\"text-align: right;\">\n",
       "      <th></th>\n",
       "      <th>ratings</th>\n",
       "      <th>reviews</th>\n",
       "    </tr>\n",
       "  </thead>\n",
       "  <tbody>\n",
       "    <tr>\n",
       "      <th>5074</th>\n",
       "      <td>5</td>\n",
       "      <td>Love this pill. Best generic I have ever tried...</td>\n",
       "    </tr>\n",
       "    <tr>\n",
       "      <th>11401</th>\n",
       "      <td>1</td>\n",
       "      <td>I went in to get skyla inserted today. Most pa...</td>\n",
       "    </tr>\n",
       "    <tr>\n",
       "      <th>4077</th>\n",
       "      <td>3</td>\n",
       "      <td>I have become pregnant 3 times. &amp; 2 miscarriag...</td>\n",
       "    </tr>\n",
       "    <tr>\n",
       "      <th>4705</th>\n",
       "      <td>5</td>\n",
       "      <td>I enjoy that I only had to get this shot every...</td>\n",
       "    </tr>\n",
       "    <tr>\n",
       "      <th>10236</th>\n",
       "      <td>4</td>\n",
       "      <td>I took Apri for about 4 months after my OBGYN ...</td>\n",
       "    </tr>\n",
       "    <tr>\n",
       "      <th>...</th>\n",
       "      <td>...</td>\n",
       "      <td>...</td>\n",
       "    </tr>\n",
       "    <tr>\n",
       "      <th>1794</th>\n",
       "      <td>5</td>\n",
       "      <td>So far so good. I've only been on this medicat...</td>\n",
       "    </tr>\n",
       "    <tr>\n",
       "      <th>261</th>\n",
       "      <td>5</td>\n",
       "      <td>I had the Mirena IUD from Feb 2010 to May of 2...</td>\n",
       "    </tr>\n",
       "    <tr>\n",
       "      <th>4004</th>\n",
       "      <td>5</td>\n",
       "      <td>I just had my IUD inserted today, so I can't r...</td>\n",
       "    </tr>\n",
       "    <tr>\n",
       "      <th>5299</th>\n",
       "      <td>5</td>\n",
       "      <td>I started TriNessa to deal with an acne proble...</td>\n",
       "    </tr>\n",
       "    <tr>\n",
       "      <th>118</th>\n",
       "      <td>3</td>\n",
       "      <td>An IUD what a wonderful invention! And it is.....</td>\n",
       "    </tr>\n",
       "  </tbody>\n",
       "</table>\n",
       "<p>10116 rows × 2 columns</p>\n",
       "</div>"
      ],
      "text/plain": [
       "       ratings                                            reviews\n",
       "5074         5  Love this pill. Best generic I have ever tried...\n",
       "11401        1  I went in to get skyla inserted today. Most pa...\n",
       "4077         3  I have become pregnant 3 times. & 2 miscarriag...\n",
       "4705         5  I enjoy that I only had to get this shot every...\n",
       "10236        4  I took Apri for about 4 months after my OBGYN ...\n",
       "...        ...                                                ...\n",
       "1794         5  So far so good. I've only been on this medicat...\n",
       "261          5  I had the Mirena IUD from Feb 2010 to May of 2...\n",
       "4004         5  I just had my IUD inserted today, so I can't r...\n",
       "5299         5  I started TriNessa to deal with an acne proble...\n",
       "118          3  An IUD what a wonderful invention! And it is.....\n",
       "\n",
       "[10116 rows x 2 columns]"
      ]
     },
     "metadata": {},
     "output_type": "display_data"
    },
    {
     "data": {
      "text/html": [
       "<div>\n",
       "<style scoped>\n",
       "    .dataframe tbody tr th:only-of-type {\n",
       "        vertical-align: middle;\n",
       "    }\n",
       "\n",
       "    .dataframe tbody tr th {\n",
       "        vertical-align: top;\n",
       "    }\n",
       "\n",
       "    .dataframe thead th {\n",
       "        text-align: right;\n",
       "    }\n",
       "</style>\n",
       "<table border=\"1\" class=\"dataframe\">\n",
       "  <thead>\n",
       "    <tr style=\"text-align: right;\">\n",
       "      <th></th>\n",
       "      <th>ratings</th>\n",
       "      <th>reviews</th>\n",
       "    </tr>\n",
       "  </thead>\n",
       "  <tbody>\n",
       "    <tr>\n",
       "      <th>338</th>\n",
       "      <td>5</td>\n",
       "      <td>I felt the need to post my experience as I alm...</td>\n",
       "    </tr>\n",
       "    <tr>\n",
       "      <th>10109</th>\n",
       "      <td>4</td>\n",
       "      <td>I have been on Femcon for 2 months and finally...</td>\n",
       "    </tr>\n",
       "    <tr>\n",
       "      <th>10304</th>\n",
       "      <td>5</td>\n",
       "      <td>I have been on this for about four months now....</td>\n",
       "    </tr>\n",
       "    <tr>\n",
       "      <th>7972</th>\n",
       "      <td>3</td>\n",
       "      <td>I started this pill just for birth control and...</td>\n",
       "    </tr>\n",
       "    <tr>\n",
       "      <th>11452</th>\n",
       "      <td>2</td>\n",
       "      <td>I was on Yaz for two years and it was WONDERFU...</td>\n",
       "    </tr>\n",
       "    <tr>\n",
       "      <th>...</th>\n",
       "      <td>...</td>\n",
       "      <td>...</td>\n",
       "    </tr>\n",
       "    <tr>\n",
       "      <th>11311</th>\n",
       "      <td>5</td>\n",
       "      <td>I got my Skyla inserted in early May, so I am ...</td>\n",
       "    </tr>\n",
       "    <tr>\n",
       "      <th>13208</th>\n",
       "      <td>5</td>\n",
       "      <td>It was the birth control I took.  I was only o...</td>\n",
       "    </tr>\n",
       "    <tr>\n",
       "      <th>4974</th>\n",
       "      <td>5</td>\n",
       "      <td>This is the third time I have been on the shot...</td>\n",
       "    </tr>\n",
       "    <tr>\n",
       "      <th>3687</th>\n",
       "      <td>5</td>\n",
       "      <td>I was on Yaz for about a year when I began to ...</td>\n",
       "    </tr>\n",
       "    <tr>\n",
       "      <th>9284</th>\n",
       "      <td>4</td>\n",
       "      <td>I went on the shot because I had excruciatingl...</td>\n",
       "    </tr>\n",
       "  </tbody>\n",
       "</table>\n",
       "<p>4336 rows × 2 columns</p>\n",
       "</div>"
      ],
      "text/plain": [
       "       ratings                                            reviews\n",
       "338          5  I felt the need to post my experience as I alm...\n",
       "10109        4  I have been on Femcon for 2 months and finally...\n",
       "10304        5  I have been on this for about four months now....\n",
       "7972         3  I started this pill just for birth control and...\n",
       "11452        2  I was on Yaz for two years and it was WONDERFU...\n",
       "...        ...                                                ...\n",
       "11311        5  I got my Skyla inserted in early May, so I am ...\n",
       "13208        5  It was the birth control I took.  I was only o...\n",
       "4974         5  This is the third time I have been on the shot...\n",
       "3687         5  I was on Yaz for about a year when I began to ...\n",
       "9284         4  I went on the shot because I had excruciatingl...\n",
       "\n",
       "[4336 rows x 2 columns]"
      ]
     },
     "metadata": {},
     "output_type": "display_data"
    }
   ],
   "source": [
    "from naive_bayes import *\n",
    "\n",
    "all_data = load_headlines('reviews.csv')\n",
    "\n",
    "(train, test) = train_test_split(all_data, train_size=0.7)\n",
    "\n",
    "display(train)\n",
    "display(test)"
   ]
  },
  {
   "cell_type": "markdown",
   "id": "earlier-spank",
   "metadata": {
    "id": "earlier-spank"
   },
   "source": [
    "### C.2.2 Dataset statistics [3 points]\n",
    "Before start training classifiers, you need to calculate some basic statistics of the dataset. **Fill in** the function ```get_basic_stats``` to print out the following statistics of the training data:\n",
    "- Average number of tokens per headline\n",
    "- Standard deviation of the number of tokens per headline\n",
    "- Total number of legitimate headlines\n",
    "- Total number of clickbait headlines\n",
    "\n",
    "Note: you can use any tokenization method you like."
   ]
  },
  {
   "cell_type": "code",
   "execution_count": 42,
   "id": "sticky-account",
   "metadata": {
    "id": "sticky-account"
   },
   "outputs": [
    {
     "name": "stdout",
     "output_type": "stream",
     "text": [
      "Would never recommend this form of birth control I suffered from complete abdominal pain. Back pain an major hair loss as I think as being a woman an hair is every thing to us this should be mentioned in one of the side affects I had it for about 2 months an went to doctors to take it out an I never felt better I felt in more pain having that then actual labor\n",
      "I had been on the Nuva ring for 5 years before deciding to pursue getting an IUD. I have been using Mirena for a year now and I love it. I wanted something that was very care free, and something that was covered by my benefits. I was 22 when I had it inserted. I had read many reviews before getting the mirena inserted and I was so scared of how much it was going to hurt. Some of the people on these review sites are obviously trying to scare others out of getting it, but my experience was very easy. The day I went in to talk to a doctor about getting it took about a half hour from walking in to walking out. Then I had to get my prescription and bring it in on the day of insertion. The day I went in for the insertion I was in the room for a total of 5 minutes. It hurts for the second that it passes through the cervix. The following few hours and days, you get period crams periodically, just like a regular period. Then throughout the next few months I would have cramping randomly (mostly because your body needs to get used to the hormones and stuff).  The first few months I needed to use day liners for about 1-2 days, no diva cups, or tampons needed. I now don't even need to use liners at all. I still get some spotting that may need a liner for 1 day but that is all. I haven't had any weight gain, acne, or breast tenderness at all. There is still the regular bloating that happens monthly, but I expected to still have symptoms of periods/have periods. I would recommend the IUD to anyone who forgets about pills or just wants to not have to worry about taking pills on a regular basis.\n",
      "Horrible decision.  After 8 months, I am having it removed next week.  It was incredibly painful to insert and I have had weight gain, depression, and awful bloating.  The bloating causes my stomach to look 4-5 months pregnant.  Can't wait to have it removed!\n",
      "I had this device placed 3 days ago, severe itching and hives were noticed all over my body within 24 hours, on day 3 it is approaching severe. Mood changes were very obvious and being dizzy was noticed on day one. I will be going to have this thing removed tomorrow, 4 days in and 400$ gone in the trash. Why I let my health professional talk me into this and away from the copper T that worked perfectly with no side effect for 3 years is beyond me. I am older now after the first IUD (copper T) so this experience has pushed me back to the tried and true birth control pills. I will never make a mistake like this again the itching and burning is driving me insane. The bleeding and discomfort from the procedure was quite excessive also, I found the other device slightly less intrusive but this one was inserted while I was menstruating the Mirena was inserted just after my cycle. \n",
      "Best birth control ever.  I been with my partner for three years, havent used any sexual protection at all. He always ejaculates while we are having sexual intercourse, and I haven't gotten pregnant for 4 years since I been on it. There is absolutely no side effects and having it put in was really easy and didn't hurt at all. They usually give you a pill the night before to loosen the cervix to insert mirena. I usually forget mirena Is there at all. Im extremely satisfied with mirena because its liked I'm infertile while I choose to be.  I will wait a few years to have it taken out and have more children\n",
      "This medication was extremely painful to place, followed by weeks of significant cramping and pain. Bleeding everyday. Fell out in 2 months! Was supposed to be in place. I dont recommend this birthcontrol\n",
      "I got pregnant after having Morena for 8 months. I am now 7 months pregnant expecting a baby boy. My bestfriend got pregnant after having Mirena for 6 months and now has a baby girl. I do not recommend this as a form of birth control for anyone. \n",
      "I'm 28 and have never had a kid. From the get go it was not good. Mainly because I have a fairly high pain tolerance and so subsequently had zero pain medication or apparently some people get GA? My doctor never warned passing out could be a possibility after getting it inserted so while driving home on the interstate I had to pull over because I nearly passed out from the uncomfortableness of it being inserted. Yes the doctors gave me the informational pamphlet and yes they listed the possible side effects, but even after reading many many reviews of mirena that stated how bad the thing messed with some people's hormones I thought... no not me. I should be fine, plus the doctor assured me I would probably be period free and most women go symptom free. Birth control that i've used in the past never affected me much, but mirena was no bueno for me. Weight gain, terrible sluggishness, acne like a mother and continuous bleeding. I seriously felt depressed absolutely zero motivation to work out or do active things like I normally do. I got it removed right away. I'm going back to the nuva ring. \n",
      "First year sucked with all the spotting, but the next four years were great. BUT, I did go through early menopause. I am done at age 44. I had my two kids, and wanted a long term bc, so Mirena seemed perfect. I really was done having kids anyway, so don't care that I am done with my periods so early. Was suspicious that Mirena had something to due with it, seems numerically possible with all I have read about other experiences. Basically, only use this if you are done having kids.\n",
      "I had the mirena placed a year ago (last August) and it is the best bc I've ever had. The pill gave me headaches! (Chateal) and the nexplanon packed on 30 pounds in the first 6 months and still had headaches, so I had it removed feb 2016. The headaches stopped, 5 pounds fell off in just the first week, and by summer I was down to my normal weight (210) and I had mirena placed in aug 2016. I bled ( light period) on and off for the first few months inconsistently. It was like having a very light for 2weeks, every two or three weeks. That died down around December and since then I have spotting for about 2 days in place of my regular period. If I could even consider it spotting. There's barely any blood but sometimes I see it when I wipe. I've never had a heavy flow, but now my period is pretty much non existent. There is cramping though! When it was first placed, I would catch an intense cramp in my uterus that would ease out in about 5 seconds. Doesn't happen so much anymore, now I'll just get very very slight period cramps around the time where I should be menstuating. It works! I have a lot of unprotected sex with my partner, and no accidents yet. No headaches, no nausea, no weight gain, none of that stuff that I had to worry about with other BC. AND my be will outlast trump. I would definitely recommend. I am 24, senior in college, a performer so I'm very active, and this bc works wonders for me. Also, I can feel the strings when I dig real deep but my partner has never complained. \n",
      "So far so good. I just had my Mirena placed yesterday and I am completely back to normal.\n",
      "Initially when it is placed there are some strong cramping. Placement was very quick, less than 15 minutes. Last night the pain was like regular period cramps, but not unbearable. I took some ibuprofen about 30 minutes before the procedure and some last night and this morning and no pain. I can kinda feel something \"in there\" when I sit down but I'm not sure if it's real or just in my head because I know there is something in there. \n",
      "I haven't been bleeding much. I've been spotting for the last two months from the Depo shot and it stopped. I am supposed to start my period any day now, but I haven't gotten it yet. The doctor said there was some bleeding at my cervix from the forceps and he put something to stop it, but I notice some brown discharge because of it. \n",
      "I just checked the strings to see what it felt like and it wasn't hard to locate them. I just hope they won't bother my boyfriend and we have sex. I have a appointment in a week for an ultrasound to check the placement. \n",
      "I was a bit apprehensive about getting the Mirena because of all the comments about pain in placement and side effects, but right now I feel great about it. I hope I don't have any reactions in the future.\n",
      "I have had mirena in for 2 years now. And it was great the first year. But now I have basically 2 periods a month horrible headaches I break out and I have gained 20-30lbs! I'm very moody and mean for no reason. And craps... I asked my doctor and she basically told me to deal with it. That it was better than having another child!!! Makes me have a discharge and smell really bad... I am not happy with it. and I am getting it removed asap!!! \n",
      "I got the Mirena 2/1/17, I bled EVERY SINGLE DAY up until I got it removed on 7/3, 5 full months of NON STOP bleeding. The when it was removed (by a doctor other than who placed it) stated it was in the wrong spot and she's surprised it even worked! Go with your gut if your unhappy, I went to THREE doc appointments and they encouraged me to wait \"a little longer\"... 5 months was long enough. NEVER AGAIN. I would rather take the traditional pill!\n",
      "So I had Mirena implanted 3 months ago, and the implantation process was mildly uncomfortable. I don't think I was fully relaxed, but for those who've had it, it's very similar to a PAP smear process. It was quick and done with it. I immediately experienced cramps after it was implanted, (I forgot to take some Tylenol beforehand.) So far, I have been bleeding lightly most days since I had it implanted. There have been a couple days of discharge in between, but then the bleeding picks back up. I don't mind too much since I had/have a newborn to tend to. My only real negative experience is that it KILLED my sex drive. It definitely works as a birth control because I have no desire to have sex with anyone ever, which is very uncharacteristic. It's putting a mild strain on my relationship, so I will switching to something (anything) else.\n",
      "I began using Mirena almost five years ago. The insertion was uncomfortable, but not so bad that I can remember it clearly. I had a few days' of cramping but it wasn't any worse than the worst menstrual cramps. A few days of Advil took care of them.  It's been a great form of birth control for me. I love not having to worry about bleeding through clothing,  being anxious about when I would get my periods (mine were irregular, and they often come at the most inconvenient times), having to change stained sheets, or being embarrassed if my partner said he could see stains on my nightwear as I get up in the morning. I also did not have the mood swings as I would have during my periods (simply because I'd feel bloated and gross while having them). It did not affect my sex drive. I've had no pain during sex, and my partner said he could feel the string only in certain positions. Occasional and very light spotting -- nothing that ever stained through my panties. Overall, I highly recommend this drug. I look forward to having this replaced later this year when the expiration is up, assuming all went as well as with my current one.\n",
      "While I didn't become pregnant while having the Mirena, I had no sex drive, mood swings, dark skin patches on my upper lip(awesome.), gained 30 lbs in 2 years, and had awful discharge. Who wants to have sex like that?\n",
      "\n",
      " It also should be noted that after the placement of the Mirena I had awful pain/cramps for about 3 months.  \n",
      "\n",
      "All-in-all, it was an awful experience. My gyno didn't want to take it out. He actually argued with me that this was the most effective form of birth control.  Yeah, I'm sure it is, but now I have no partner, weigh more than I'm comfortable at, and have to wear a liner 2/7 days a week.  No thanks. \n",
      "I had mirena all 5 years. I had low sex drive and following mirena, when I went to get it taken out and replaced, it was hard getting it out, and then when trying to do another one there was so much scar tissue build up from the last one I was unable to have the mirena. After being off of it for almost a year, I feel normal, even though I had to go back on the pill, I'm glad mirena is gone. \n",
      "I'm 24, I don't have kids and I've never been pregnant.  I've been with my boyfriend for 8 years, and kids just are not in our near future.  I have been on the pill since I was 14 and just recently we wanted to try something long term.  I got the Mirena put in 2 days ago.  I was nervous and so scared because of all the bad reviews I read about it before I went to have it put in.  While getting the Mirena put in there were 3 cramps, each cramp were worse than the other but none were unbearable.  Once the Mirena was put in, they did an ultra sound to be sure that it was in place and my doctor said everything looked great.  I went back to work after I got it put in, I was tired and a little uncomfortable for the rest of the day.  I went home and slept for most of the afternoon.  Yesterday was by far the hardest day, I had cramps on and off, I was dizzy, and I was spotting on and off.  But, none of this was super painful.  My boyfriend and I had sex last night, my doctor told us to use condoms for the first month because the strings will be scratchy for a little bit.  We used a condom and he could only feel the strings in certain positions.  Sex was not painful and I did not bleed bad afterwards.  I haven't spotted since yesterday afternoon.  I'm cramping today but not bad at all, just feels like small period cramps.  I have not been dizzy.  I feel a bit confused at time, and I don't really have an appetite, but I'm not complaining about that.  Overall this was not near as bad as the reviews I read before I got this.  I am pleased so far, but then again it has only been 3 days.  I think this is going to be a good birth control for me.  \n",
      "After I gave birth to my first child my doctor prescribed the mini-pill while I was breastfeeding but looking for something long term highly recommended the Mirena (she really pushed for this particular IUD). I agreed to get one. Upon insertion it was painful but not terribly unbearable but later that night I experience the most painful cramps I have had to date...I was in pain for hours. The next day the pain subsided but I was still weary. During this time period I was so overly-emotional, had absolutely no sex drive and sex became painful. Before the month was up I called to have it removed and when I went in, my doctor said she could not find it! I could have gotten pregnant again the whole time! She said it might have come out when I was having really bad cramps but I knew something was wrong. I made an appointment with another gynecologist and she did an ultrasound and came up with nothing but then she tried an x-ray and there it was lodged inside my body! She spoke to some experts and theorized that my doctor must have perforated my uterine wall while trying to place it in, which is why I was in so much pain. In the end I had to have it surgically removed! Do not get this IUD unless you are absolutely certain you can deal with such terrible consequences! Never again!\n",
      "My doctor was so eager to switch me from BC pills to the Mirena IUD. I had felt sketched out a bit because she was so persistent, and it did not occur to me until months later that doctors make A LOT of money by convincing women to get the IUD. Anyways, I was reeled in by the fact that you don't have to keep track of it for five years straight so I decided to get mine fall of 2015. The insertion was pretty uncomfortable, but still bearable and not too bad. I spotted continuously for about three months, but I kept it in as I wanted my body to adjust. When the spotting ceased, I thought that I was set for years of comfort and convenience. Sex was a bit uncomfortable for my partner at first as the strings kept poking him, so I went to the doctor to trim them shorter. He sometimes could still feel them poking despite the shortness. That was a slight inconvenience, but not enough to make me consider removal until about half a year passed and I started getting MAJOR anxiety. The whole summer that I was working at a desk job I felt anxious even when I had nothing to worry about really. I felt that I had GAD and went to see a therapist twice. This was also around the time when I started experiencing the MOST PAINFUL CRAMPS I had ever had in my life. Before taking birth control pills, I was a lucky girl who never had any cramping. When taking birth control pills, I have light cramps every so often. With the Mirena, the cramps are unbearable. I can't get out of bed with them. To make matters worse, my period (which stopped for a couple months) actually started again in the fall after that summer. These periods would last 10-12 days and hurt like hell. Basically, I would have long periods that would last half a month almost and mood swings and anxiety almost all the time. I cried SO EASILY and was overly sensitive, fatigued, and depressed. I removed the IUD after 1 year and 2 months of hell and immediately switched back to BC. It's been 2 weeks and I already feel better.\n",
      "I had my second Mirena inserted yesterday. The first was inserted several years ago when my youngest son was 2. Other than minor pain and cramping during insertion, I had no complications or negative side effects. I drove myself home from the Doctor's office and even stopped for groceries on the way. I did not gain weight, develop acne, or experience any mood changes as I did while on the pill. I loved not having to worry about remembering the pill or counting days during my cycle. My husband and I enjoyed a fulfilling sex life without the worry of an unexpected pregnancy. After reading so many negative reviews, my advice is to listen to your own doctor and give Mirena a try. It's easy to remove if you happen to be one of the few women whose bodies do not react well to the hormones in Mirena. The benefits far outweigh the potential risk!\n",
      "I had the birth control IUD mirena placed just after my six month check up after having my baby! No problem having it inserted but I do NOT recommend this to any breastfeeding mother! (Yes, every body and hormones are different for everyone) however, this almost completely dried up my milk not even a month into having it inserted! Thankfully I realized it in time and had it removed immediately and was able to get my milk supply back! Anyone who breastfeeds knows how hard it is in the first six weeks so I didn't want to give up what I worked so hard to get! Also, I felt it made me very moody and irritable all the time! Having it taken out was an extremely quick process and I never felt a thing! Always trust what your body is telling you!\n",
      "I had the Mirena IUD for 2 1/2 years. Although, my periods literally went away, the side effects of weight gain, libido and mood ultimately led me to have it removed. I had 2 doctors swear my weight gain wasn't due to Mirena, but within 2 weeks of having it out, I'm already down 5 lbs having not changed my diet and exercise. I had plateaued and couldn't figure out what was wrong. Now, I know it was the IUD. My libido came back as well. If I were to be asked if I recommended it, I would say only if you don't mind the weight gain and loss of libido. I did enjoy not having a period, but I'd rather have a period than to be fat and lose interest in sex with my husband. It affected every aspect of our marriage from my self esteem to arguing over lack of being close emotionally. If you're single, skinny, and never have to worry about weight, then yeah, its great. \n",
      "I had the Mirena inserted October 2015.  I had it removed this morning (July 2016) and replaced with the Paraguard.  The hormones in the Mirena did a terrible trick on me physically and emotionally.  At the age of 32 I started having acne for the first time ever, my anxiety level went through the roof, I would have fits like a child and not be able to stop them even though I knew I was acting ridiculous, random bouts of crying, irritability, the worst cramps I have ever gotten that would happen once to twice a week, terribly bloating and all around not being myself.  The insertion process was excruciating (as was the Paragaurd but I have not had children so I am sure that had something to do with the amount of pain).  I can not wait to start feeling like myself again and having my face back again without acne all over it.  I will say, it did it's job other than that, I'm not pregnant.\n",
      "Please do your research to see if this product is right for you. This medication releases high levels of progesterone so do not take this if you are prone to acne. Post insertion I developed uncontrollable acne flare-ups, experienced painful intercourse, got monthly yeast infections, and worst of all my incidence of cold sores had risen dramatically (almost monthly!). I did my research and found that high levels of progesterone are related to the severity of and susceptibility to the herpes simplex virus. However, a balance between estradiol and progesterone can act as a protective factor and is also really good for treating acne! \n",
      "\n",
      "Visit this website for more useful information:  http://www.acne.org/messageboard/topic/330166-goo d-bad-birth-control-pills-and-implants-for-acne/\n",
      "I have never been pregnant and have had Mirena for just over a month and a half now. Insertion was painful. I am allergic to ibuprofen so I did not take any pain medicine at all for the procedure, but it was manageable nonetheless. I yelped in pain, and the actual insertion of the IUD itself lasted about 2 minutes I think. I had uncomfortable bloating, mild cramps, and nausea for the rest of the day. Then I had very minor spotting for about three weeks off and on (it wasn't enough for even a liner - I only noticed when going to the bathroom), and maybe one or two small cramps a week since. I haven't had a period since a week before insertion. My Dr. Recommended not having sex until two weeks after insertion, so my fiancÃ©' and I waited. I was a bit worried about pregnancy because I had trouble finding the strings and I was very late having a period, but my doctor confirmed that the IUD was in place during my follow up exam and gave me a pregnancy test which turned out negative. Overall I love Mirena so far and I am so happy with it! I know that it isn't for everyone, but I'm writing this review in hopes that it encourages some who may be on the fence. I believe my periods have stopped for good as they were very regular prior to insertion. I hope to continue to use Mirena for a long time.\n",
      "I had the Mirena (IUD) placed in for over 3 years.  My first year I cramped a lot.  Never had a cycle on this.  Intercourse was often painful.  Mood swings were on and off.  Never got pregnant while using this and never had a menstrual cycle.  Nothing major occurred while on this.  Everyone's body is different and I can say I liked this but I didn't, had its pros and cons.  Overall no major problems.  Currently going to try the NuvaRing.   \n",
      "I recently had a chemical pregnancy and suffer constant ovarian cysts so my GP decided to try the final method of birth control the MIRENA. Previously I have had terrible issues with various pills and the implanon. I had the mirena inserted yesterday. The insertion is meant to be the most painful part but unfortunately it was the hours that followed. I was in excruciating pain for the next 12 hours (like an ovarian cyst rupture - which I have had). It got to the point where it was getting worse and I was now vomiting from the pain so my partner to me to ED. The ED was worried with the effect the drug was having on my body and made the decision to remove it due to the pain which was not subsiding after administering panadol, nurofen, morphine and anti-nausea drugs. Personally, was not a suitable option for me. I would recommend to anyone who has not had children to strongly consider whether this is the best option for you. \n",
      "I had my Mirena inserted in Aug 2010 and removed in June 2015. Insertion was easy, I had mild cramping when I went home. I did get a yeast infection afterwards but took care of that easy. Then did not have another problem for the 5 years. The only reason I did not have another inserted is because I thought I would be trying to get pregnant soon. Since that has not happened I plan to do this again. I'm tired of taking the pill and I loved not having a period. I was worried my doctor would not do it because it is mostly marketed to woman who have given birth. I have never been pregnant.\n",
      "I had my Mirena removed on Monday, I had it in for a year and a half. I thought it was great at first, then, I hit the one year mark. I was extremely bloated all the time, Intercourse hurt, I was bleeding constantly, and I started to gained weight. The thing is I've never been able to gain weight. I have weighed 107 since puberty. I had a daughter and went back to 107 within two weeks after birth. Since it was removed I have lost seven pounds in 5 days?! I went from 120 to 113, and the bloating is gone. I also have a rash covering my body now. It showed up the next day after having Mirena removed, but it does not itch. no one can figure out why. I am glad I took it out before things got worse. \n",
      "I hate to see so many negative reviews about the Mirena! The IUD is a gift from above in my opinion! Insertion was only moderately painful (honestly I've had worse cramps during my period). Don't be scared away by that; so many women shy away because they think the pain is awful, but honestly after 5 mins I was walking out of my OBGYN's office. I've had my IUD in for two years now and haven't had a period since! Seriously it's the best thing ever and I've saved a ton of money on \"feminine hygiene\" products. I am sexually active and live with my partner and it is so comforting to not worry about pregnancy or periods or anything. The IUD mellowed out all my extreme PMS symptoms too, no more mood swings, overeating, cramps, etc... I would/and do HIGHLY recommend the IUD! \n",
      "I'm 22 and haven't had kids. The Mirena is the first form of birth control I've ever used. I've had my IUD in for 1.5 yrs.\n",
      "\n",
      "I was pretty nervous about getting an IUD; I have difficulty relaxing during procedures. My husband is a nurse and both he and other experienced female nurses we know highly recommended the IUD.\n",
      "\n",
      "The procedure was quick, although painful. I took two Aleve before the appointment and was not given any other meds. I also wasn't on my period during the procedure; being on your period can apparently help because your cervix is naturally more dilated.\n",
      "My doctor manually dilated me, which caused cramping, and after the Mirena was in I had to lie down for about half an hour because of intense cramping. I also vomited. I would say that the pain, at its worst point, was a 6 or 7 out of 10. \n",
      "After about 30 minutes, the cramping stopped fairly suddenly and I felt a little weak, but otherwise totally fine. There was no bleeding during or after, only cramping (like I said, I have difficulty relaxing my body). Later that day I began my period, according to my regular schedule. It's possible some of the cramping was due to my cycle starting.\n",
      "\n",
      "After the procedure, I had about 3 months of daily spotting, which was slightly annoying but very manageable. It eventually went away on its own.\n",
      "Currently, I have NO PERIODS (yay!!) and only extremely occasional period symptoms, such as very mild cramping and bloating. No blood at all! I’ve saved so much money on tampons. The Mirena has been extremely effective as a contraceptive method—no pregnancy scares!\n",
      "Also, no weight gain, acne, mood swings, or medical issues. My sex drive has stayed the same as well.\n",
      "\n",
      "I am SO GLAD I have an IUD. The benefits (not having to remember to take medication, a reliable contraceptive, and lack of periods) far outweigh the pain. Although the IUD can be initially costly, I've saved a lot in the long run. I plan on getting another IUD inserted when my current one is done.\n",
      "I had this IUD for 5 months and had bleeding the entire time.  It also changed my mood so I was more irritable the majority of the time.  I would not recommend this to anyone.  \n",
      "Insertion was very easy for me. Quick pain and short cramping at the doctors office but I was fine within hours. I had been on continuous birth control before Mirena, so I already had no monthly period and that continued with Mirena. \n",
      "The only downfall of Mirena was too great to ignore. Severe weight gain. I've always been a small chested,  active runner and biker and always just a little underweight. In the not quite six months I had my Mirena (May to October) I gained 50+ pounds. I went from 120lbs to 175lbs and found myself now officially overweight by the time I had it removed. I first gained weight in my breasts, going up 2 bras sizes but then developed a significant layer of fat all over my body and quite a bit in my stomach. \n",
      "I had discussed the concern with my doctor after the first 30lbs and she urged me to try it a little longer - pointing out that for those who do have weight gain with their IUD, removal does not usually result in weight loss. She was right. Now four months after removal, I've struggled to shed 5 of the 50+ lbs I gained. My whole body composition was changed.\n",
      "Removal for me was painful and terrible. Shortly after having my Mirena placed I had to undergo a LEEP procedure in which the doctor cut the strings of my IUD. This meant removal was done using an IUD hook and a bit of very uncomfortable prodding. I would advise anyone with a history of abnormal paps or needing a LEEP to carefully consider waiting to place an IUD.\n",
      "I was about 21 when I first got Mirena. No children. Insertion was very painful for me. It did take me longer, maybe about 10-15 minutes. The pain lasted a few days, and I've had trouble ever since. For the first couple of years, my cramps would be horrible and last maybe 2 weeks. The bleeding lasted a while for the first couple of months, but after that, it didn't last long (maybe 3 days). I kept being told that the pain would normalize and even out, but even after my cramps duration shortened (maybe 4 days instead of two weeks), they were still really horrible. And this took over three years to achieve. Through a combination of hoping that it would get better and fear that removal would be just as painful as insertion, I've kept Mirena. I'm now about 4 years in, and overall I really wish I would have just stayed on the pill. I feel much better now overall, but it's taken so long to get to this point. It's true that Mirena is much easier, which is why I decided to try it in the first place, but overall I've had a really negative experience. \n",
      "After inserting bleeding for 3 months is normal.  I bleeded for 7 months and after checking with doctor I was put on contraceptive pills to stop bleeding which didn't work but instead got terrible mood swings.  I have an appointment to have it removed.  Can't wait to get back normal \n",
      "Well I'm not pregnant so it fulfilled its purpose, but at the same time my periods were 7-10 days long. They were light but I'm like wth my period is longer than when I wasn't on birth control. I got it towards the end of 2014. When I first got it my period was coming on every 2 weeks. Then after a doctors visit everything was fine. Until last week my period was 7 days long, went off, but came right back on for 3-4 days. WTH!!!!! Went to the doctor today and told them to take it out. I'm expecting a painful removal but for some reason it was really low so it just came right out. Like I could have probably pulled it out myself considering how easily the doctor just pulled it out. \n",
      "I am 42 and am 2 years into my 2nd Mirena. I have an appt to have it removed in 4 days and can't wait. I never put two and two together until speaking to an endocrinologist and her recommending removal and after reading all of these reviews I agree with my dr. that it has been the cause of my obesity, mood swings, tiredness and growth of facial hair. I pray I will feel normal again after removal. I have  pain during intercourse as well and frequent random uterine spasms that feel like labor. Please let removal of this help me!!\n",
      "I switched to an IUD after finding out that my migraines with aura give me a heightened risk of stroke when on most pills or the nuvaring. I was very uneasy at first about getting the Mirena after seeing all of the negative reviews of IUDs in general. I voiced my concern with my gyn, who explained the Shield fiasco and even went and showed me that less than 0.02% of people experience ALL of the severe side effects. The only downfall was that I was not told to take some ibuprofen prior to the insertion, which was very painful though short. The whole procedure took less than a minute, and I was out the door driving back to my apartment within 10 min. I did have some pretty severe cramping that day, but nothing that a bunch of ibuprofen couldn't handle. The cramps subsided quickly, and I was able to return to my normal routine the next day. It should be noted that I did not take this for heavy period bleeding, and I haven't had any spotting or break through bleeding since the day it was inserted. MY gyn did mention that I may have spotting or irregular periods for the first 6 months, but they should regulate and lessen after that, so I'm prepared. Overall, I am one happy camper. I did ask the gyn to leave the threads a little longer so that they'll curl up around my cervix easier, and so my boyfriend won't get poked by them. I would definitely recommend Mirena!\n",
      "First off, I did not get pregnant while using the Mirena, so I guess it fulfilled its purpose. However, at least 3 times a week I would get crippling, mind numbing pain in my uterus/rectal area (I have a retroverted uterus). I am guessing they were very severe cramps, but it honestly felt like I was going into labor. And 1 week a month I would have near constant cramps, so intense that I was unable to keep doing whatever action I was doing like breathing or walking. I am not exaggerating. I would be walking down the street with a friend and suddenly seize up and double over. They would ask me what was wrong and I couldn't even talk until the pain died down. Occasionally I would have severe pain after sex as if the Mirena was becoming embedded or dislodged. I would then feel for the strings in a panic thinking that it had shifted further into my uterus. I went to the gyno several times the first year that I had it thinking that something must be wrong. Every time they said everything was fine and to take some OTC pain meds. And let's not forget the innumerable yeast infections that I got. I had never had a yeast infection before getting the Mirena, and during the 2 years I had it, I got one at least every 3 months. I was also incredibly emotional and depressed while on this medication. I would frequently cry over nothing, and I couldn't stop. My boyfriend thought he was the problem, despite my objections. It got to the point that I felt the need to hide my emotions and apologize every time I cried because I knew they were irrational. I felt like a huge emotional burden to my boyfriend despite all his support and kindness. Since stopping the Mirena and switching to another form of birth control, my emotions have leveled out. I no longer cry over nothing. I am still with the same boyfriend and I feel so relieved to not make him feel like a failure anymore. Since switching to other BC I feel so much better, both physically and emotionally. I do NOT recommend it.\n",
      "DON'T USE THIS PRODUCT.  IT IS NOT EFFECTIVE.  After my second child I chose to try this option for birth control it was extremely uncomfortable being inserted and after a year and half found out that it had migrated into my stomach and I needed to have surgery to remove.  What kind of protection is this?  This product should be banned and no one should use.  IT DOES'T WORK.\n",
      "I am 18, no kids, and sexually active. \n",
      "I was given a local anesthetic into my cervix via injection in 3 different places. This was a dull, quite harsh probing sensation that I felt quite deep in my cervix. Nothing like a real needle you'd have in your arm (which I am petrified of). If you are scared of the stinging sensation associated with needles, fear not, I didn't feel any stinging. \n",
      "Next the speculum was inserted and that was uncomfortable, simply because I was so nervous. \n",
      "I don't overly remember everything step by step from then on because I got a little lightheaded. \n",
      "The gyno told me to keep wiggling my toes the entire time as it acts as a distraction and seemed to lessen the pain a little. \n",
      "Obviously when different instruments and then the tube with the mirena itself in it, were inserted through the cervix, I felt that. It was quite a pinching, deep ache. Similar to a real bad period cramp. I tried to tell myself the whole time to relax but I remained quite right and tense because of the waves of pain that came and went. \n",
      "Overall, not the worst experience, but not something I'd like to experience again anytime soon. Coming from a younger persons point of view, it's definitely a doable pain. I don't agree that is just \"uncomfortable\" because there are parts of it that do hurt quite a bit - but it's a manageable pain. Very much along the lines of different pains and sensations you would experience with a severe period on days 1 and 2. Maybe a slightly more direct and intrusive pain, but it's really over quite quickly. \n",
      "The reviews for Mirena seem to be very negative or very positive...that's birth control for you. Everyone is different. I personally love Mirena. The insertion was slightly uncomfortable for me, but not painful, and it was over quickly. Again, not everyone will have that experience. There was spotting and cramping on and off for the first two months. It's been 9 months since I had it inserted, and now I hardly have a period. One, maybe two days of spotting every 6 weeks or so. I should also mention I've never been pregnant; people have said it's only for women who've already had children. That is a myth. For me, this is a miracle with no side effects and no daily pills to remember. If you're reading these reviews, good for you for doing some research. But don't let the negative reviews scare you off. The best advice will come from your doctor! \n",
      "This is my second Mirena I had my first one right after my son was born in 2009 and my second one in 2014 when the 5 years was up. Personal experience is it's the best decision I could have made! I agree with most of the comments the insertion was VERY painful but bearable take advil ahead of time and plan to be off work that day. It's rough. Have someone drive you. But I felt just like a period for the next week or two with light bleeding and cramping. I had a couple of light periods in the months after the first one but in the last 6 1/2 years can say I have only spotted or had slight cramps maybe 4 times total. Usually only lasting 2 days. I used to have terrible periods with horrible cramps that lasted at least a week with heave bleeding. It is so wonderful to not worry about pregnancy and no periods each month. I am sorry for those that it didn't work for. Everyone is different but I would give it a try. The removal of my old one I didn't feel AT ALL! But the insertion of the second one hurt almost as bad as the first one. But like others have said it's over quickly! \n",
      "This post is to alleviate the stress that so many women must feel prior to insertion. While pain tolerances and experiences will obviously vary from woman to woman, the insertion was nowhere near the most painful experience of my life. It was uncomfortable and the part where they measured my uterus was the most painful, but slow breathing got me through those 20 seconds just fine. Take Advil ahead of time if possible, and relax. My doctor told me that my insertion was a tricky one, but I managed it extremely well likely due to my mindset. I had to force myself to stop reading the negative reviews because it was just scaring me. I breathed through it and was up off the table in 30 seconds after it was over, so I would advise anyone thinking about this to know that you can definitely do it! Mind over matter. Don't let the fear of the insertion be the factor that prevents you from trying it.\n",
      "Horrible! Painful! This is my second one. I got 1st 12yrs ago after daughter. They were pretty new then not a lot of reviews. I never put 2&2 together to realize it was IUD. I kept for 5 miserable years thinking it was just me. I put on 60 lbs over 5 yrs My hair thinned, I was depressed, moody and had suicidal thoughts all the time. I put it all on me thinking I was depressed, tried pills, diet lifestyle changes no shift. My 5 yrs up got removed and within 4mo I was feeling happy, waking refreshed, wanting to go outside and live, dropped all my weight that year. Again didn't put 2&2 together. 11years later had son and got IUD thinking it was good, 5yrs no worries of prego. Started going down slippery slope again, thinking it's just me, that's how I am after baby??? Thank god this one hurt, pinched and caused stabbing pains in abdomen and gave my 14-20 day periods with black blood, I knew something was wrong. Why did I keep it for 19 mo? Drs and others said side effects should go away. They didn't and I had it removed a week ago. I felt great day of but next day? Oh man! I decided to look up possible effects of removal and learned about the \"Mirena crash\" and now dealing with that. I also then learned of the thousands of women experiencing same thing. WOW! It's not me and I'm not crazy! I have read thousands of reviews in amazement. To all the women it's great for...lucky you! To all those women who think that those of us having issues that it all in our heads...shame on you! This is very real and you all had better hope that at removal you don't have the crash...if you do then you will know how real it is and that women have been dealing with this for months, years with it in without being warned and being told it will go away in time. If your having symptoms...they \"might\" go away but the waste of life, troubled relationships and even the impatience takes a toll on both yourself and your FAMILY. Go with your gut. Removal was best thing I've done for myself!\n",
      "I had Mirena inserted about five months ago because I was looking for a convenient low-hormone birth control. It was a difficult and painful insertion process, although I'm told my experience was abnormally difficult. Most people I know had little trouble and mild discomfort when their IUDs were inserted. I've experienced no weight gain or mood swings like some people have reported. Spotting and mild cramps were almost constant for the first couple months, and although those side effects have lessened, they still happen on a fairly regular basis. What is most troubling about Mirena for me is that I start experiencing symptoms of BV after I have sex with my partner, and I bleed now during sex. Every time. If this continues, I will have to remove it and find another birth control, because taking antibiotics constantly is not a reasonable solution. From what I've read, recurring BV is a common problem with IUDs, so that's something to consider if you are thinking about having an IUD inserted. There's apparently some evidence that because the frequent bleeding caused by the IUD changes the PH of the vagina, it contributes to bacterial imbalances. Vitamins and probiotics may help, but I've yet to see if that is true. This is all information I've found online, so who knows what is true and what isn't. Anyway, it's a real downer.\n",
      "I am 21 with no children , but after reading online my doctor talked me into going through with Mirena . Which I completely regret ! I have been in horrible pain ! With bloating that makes my stomach appear huge . After getting Mirena I could barely walk , it hurt to even speak , cough , to move Period ! I've have extreme discomfort. First thing Monday morning I plain on having Mirena REMOVED ! I've also felt very nauseous, and a countiuous sharp pain , which I thought would go away ... I would not recommend this to anyone ! \n",
      "I am writing this review because I read horror stories about the Mirena. I just got it inserted today. Last night I was up all night reading reviews . I went to Dr office today and while waiting in waiting room, I decided that I was going to skip the mirena and ask for the pill. When I went in exam room the nurse made me feel a little bit better about the whole thing. Then my Dr. Came in ( which I love) and I said all I read is bad things . My biggest concern was weight gain and not being able to concieve again, and everyone said it HURT so badly! My dr told me only 2 of his patients had negative side effects , I know everyone  is differnt when it comes to side effects from hormones . He also reasurred me that he will take it out if I have any problems! I am not kidding when I say this but I seriously felt no pain or discomfort at all! I felt nothing at all other than akward because a med student was looking at me. I have slight spotting and ZERO cramping. I may wake up tomorrow or in 6 months and hate it who knows! Point of post is to let others know that my insertion was pain free!! \n",
      "Works for b/c, bUT horrible otherwise. Painful insertion. 3 months of hellish pain, nausea, cramping, and pms-like symptoms. Had this in for 5 years,  (could not tolerate the Pill - even low levels of the active ingredient made my life miserable.) Gradually, my monthly cramps lessened, but ALWAYS spotted, painful ovulation, periods lasted 8-11 days, cramping with sex. Had it removed at age 53, when in perimenopause and then FINALLY my periods stopped.\n",
      "I'm eighteen and got my Mirena a few months ago. Insertion was really rough, but I think my reaction was uncommon. I'm young and have never had a child. I got dizzy and had to lay down for quite a while. Overall getting an IUD has been a great decision. I don't worry about pregnancy with my boyfriend and my periods have disappeared. I recommend getting an IUD for all young women that are sexually active. There was some initial discomfort for me the first month. I bled a lot and the cramping was pretty bad. These things were annoying but worth the end result.\n",
      "When I first got the Mirena inserted I had just turned 18 and because I was only 18, I don't think I thought hard enough and didnt make clear decisions. When I went in I wish someone would've told me to take an ibuprofen or anything to ease the pain because ooooohhh my goodness was it painful. I did black out for a couple seconds after the insertion. My boyfriend drove us home and had bad cramping the entire day plus about a month. I was contemplating getting it taken out but stuck to it and I'm glad I did. I'm 21 now so have had it for some time now. Since the time I got it my periods have lightened up to almost none. I was normally irregular. I gained very little weight since and do not have acne but do break out every now and then but I think it's just normal to do so. A suggestion I would give through experience iis do not have rough intercourse as it could give you cramping. Overall I am satisfied with the effectiveness and ease to use. \n",
      "I am super new to mirena but figure I would share whats been happening. For me, insertion was incredibly painful. Easily the most painful thing I have experienced. For me, as soon as it was inserted, I started feeling really off and had super bad cramping and tenderness. I sat for about 10 minutes, and then when I walked out to my car, I had a vasovagel reaction and blacked out. When i woke up again, I went back into the doctor's to make sure that nothing had gone wrong and was told I was fine. About 2 weeks after insertion I started getting just incredibly painful cramps to the point where it was hard to get out of bed because the cramps would come and go. I had spotting constantly except for three days where I got what I think was my period. Now, about a month in, I have started breaking out in hives, which I think is related to the mirena because there are no new allergens in my life, or changes in rountines. It is effective at its job, but at this point it doesn't seem like it was worth it. \n",
      "Not the best decision I've made. I had this put in a month after I had my son. It was not painful. After a couple months i stopped getting my period. It was great. I wasn't worried about the side effects since I wasn't on planning on having more kids. But after 2 years I started getting pains in the area where my ovaries are supposed to be. Anyways I talked to my midwife but she said\n",
      "It was normal. AnywAys when 5 years where up i went to have it taken out. At first my doctor couldn't find the string, so I had an appointment with my gynecologist. That was painful, bledfor a couple days. Then the worst thing is i miscarried 4 months later(because of the mirena). Anyways I got pregnant 3 months after and an ultrasound shows a blood clot in my ovaries. All I'm hoping is my baby makes it now that I am 10 weeks.\n",
      "I chose this as a progesterone only option for birth control. I am not good at remembering to take a pill at the same time every day. I have not had children.  FYI: take a high dose of pain killer/ aspirin before insertion; I wish I had known. During Mirena insertion, it was incredibly painful but brief. I have a high tolerance for pain but during the IUD insertion I had a vasovagal reaction from the pain. My heart rate dropped to 31 and I probably would have fainted if I hadn't already been lying on my back. Nurses were called in to stand on either side of the table to be sure I didn't fall off. After some cold water and 10 minutes I only had cramps. \n",
      "For the first 1+ years, I had a regular period monthly that lasted 5-7 days with medium flow. Within the last 6 months I have had brown gook, and occasional pink, spotting almost daily and need a pantyliner always. I also have cramps every few days with moderate severity. My gyno wants me to have an ultrasound, biopsy, and to consider another form of birth control. I truly think this is all from the Mirena after reading other comments. \n",
      "All in all: disappointed that I never got to be period-free as I was told usually happens. Also, who wants to have sex knowing there is brown gook in their pants?\n",
      "I was experiencing many negative effects from taking birth control pills so after talking with my doctor about some different options, she recommended that I look into getting an IUD. I had mine inserted about three weeks ago and it has been a very positive experience. I was initially a little nervous but my advice is to stay calm and take some deep breaths. Throughout the procedure, you might feel a little uncomfortable and experience a few sharp pains but it was incredibly fast taking less than a few minutes. That day I had a lot of cramps but I took work off (highly recommended) and stayed at home. For the first week I experienced some light cramping and spotting. By the second week the cramping has mostly subsided but I still continue to have some spotting even now. Although I haven't had much experience with having an IUD, again it has been a very positive change. I would highly recommend this form of birth control to women of all ages.\n",
      "I've been with the mirena for 3 months and has been great. My doctor recommended it and she has one too, so i was more confortable. \n",
      "The insertion was ok, a little pain like menstrual pain but nothing more. Im 20 and I haven't had children or any pregnancy before and she said that it was the easiest one she had ever did.\n",
      " The first month i noticed that acne was coming back and a lot in my chest, back and face but she told me that was normal, specially he first 6 months and now, after 3 months the acne is disappearing, you just have to be patient and be clean. \n",
      "I have cramps, i always had them until i started the pill, but now i have them again but not as strong as before, so thats good.\n",
      "My period is really light but for more days, is like spotting for a week so i just use a little pad and can have sex without being grossed out. \n",
      "My boyfriend doesn't feel it. and no pregnancy this last 3 months! usually he doesn't come inside but he has and there's nothing to worry about, there's less than 1% of possibilities to get pregnant with this.\n",
      "Also, there was one time that it hunted during sex and i thought it was the Mirena, but it was an ovarian cyst, she gave me painkillers and it usually disappear a couple of months later, if not, go to your doctor again. \n",
      "I have big expectations for the next years to come and i recommend it, but talk to your doctor first ( a good one) I think that if it's a woman and she has had it, it's better because she can understand what you're going through.\n",
      "\n",
      "\n",
      "Incredibly painful insertion (I crushed my shin bone mountain biking last week and one of my first thoughts was that the IUD insertion was still worse), cramps lasted for a week, and then two weeks after insertion, I started getting nauseous every day and also got headaches. So wish this had worked out for me, as I've tried the copper IUD and implanon with similarly bad results, but alas, I'm one of the overly-sensitive types.\n",
      "I am not sure if anyone will even see this review, but if it helps just one person I will be happy! I went to my OB seeking options for birth control that did not contain estrogen. I am on another medication and if estrogen is taken with it, it lowers my levels of the much more important medication. So my OB suggested a progesterone only form of birth control and began to rave about how great Mirena was. Saying I would eventually stop having periods, it's effective for 5 years, etc. So I tried it out. This insertion process was uncomfortable, but tolerable. The next few hours however were much worse with very severe cramping, but I was fine the next day. I went for my checkup a month later and Mirena was still in place properly. As my OB said, I bled for about three months, lightly-moderately and consistently. What I didn't count on was bleeding like that for 3 additional months (I basically had a 6 month long period). On top of that, my periods never stopped. I had a consistent period every month after the initial 6 months of non-stop bleeding. As a woman I am aware everyone's body tolerates these things differently, so I was just thankful for the very reliable contraception that I didn't have to take every day. About 10 months after insertion, I was having another period. When I went to the bathroom and wiped (sorry for the detail) something felt weird, it was my Mirena! My Mirena had fallen out, without any feelings of discomfort or any warning. My doctor had warned me about possible \"migration\" but only the slight chance of it migrating up, not down and out. I am just thankful that I noticed it had came out, because I easily could have just flushed it and never know. If that was the case, well we all know what happens with sex without contraception. Mirena did not live up to my expectations! If you are considering it, make sure you ask your doctor about the possibility of it coming out on its own, because my doctor blew right past that possibility. Good luck!\n",
      "I'm 25 years old and had the Mirena inserted June 9,2015. Insertion was painful and the next 24 hours was awful cramping. Within a week the cramping subsided and I was feeling great! Suddenly July 2nd I got hit with a panic attack, and suffered major anxiety and depression for the next few days. I felt just off, like something was wrong and had a lot of irrational thoughts in my head that I could not control! I felt like I was going crazy and that I needed help! I have never had anxiety or depression before, so I knew this wasn't just from 'stress.' We did some research and found many reviews just like my experience, so I saw the doctor 4 days later (and a lot of tears.) He removed the Mirena and gave me Clonazepam to help until the hormones balanced. The beginning few days were bad, I had many break downs and felt like something was wrong, I just didn't know what! Some days I needed pills every few hours just to feel like I wasn't going to have a breakdown. I had to keep busy, because the anxiety and depression hit when I was alone and trying to relax. It's been a week since having it removed and I haven't needed a pill in the last 3 days. It 's been rough but it's slowly getting better. \n",
      "I promise an update after three months. I love mirena! It takes a bit for your body to adjust but my periods are light and I'm done with the crappy spotting phase (which lasts a while but it's worth waiting it out!). I was on the pill for five years before this and I didn't think I would care about not taking a pill. I was wrong! It's so freeing not thinking about your birth control. Can't recommend it enough! \n",
      "Ok ladies it IS NOT that bad. Go when Aunt Flo comes to town and take a deep breath. My insertion was not bad at all. I went three days after my period ended took no meds and it honestly hurt less then a pap. The most uncomfortable part is getting the speculum shoved in my vagina. I mean who really enjoys that right. I am not wonder woman I had an epidural when I had my baby. That was almost 2 years ago though. If you are really nervous about it ask your Dr. if you can listen to music or a book on tape. For me it wasn't bad at all. \n",
      "I'm 27 years old and have had a love hate relationship with birth control since my teens. I've tried the pill, then decided to be off of BC for a significant amount of years due to the way the pill made me feel. I decided 4 months ago to try depo shot after a scare with my boyfriend. WORST decision. I had the worst mood swings, didn't feel like myself, and gained weight. Spotting was continuous for about 40 days and when it came time for the shot again I consulted my OBGYN about other methods. Mirena fit my lifestyle the best. The procedure took \"2 songs\" (my amazing doctor let me listen to music to calm me down). The procedure is not pleasant and the feeling afterwards isn't either. My cramping lasted longer than most and my light bleeding did too. It was an annoyance but manageable with advil. I will no question do this again in 5 years if I'm still not ready for kids. \n",
      "Before I started Mirena I was on Depo Provera shots. I decided to switch because of the bone-density concerns. My sister and I both switched at the same time and both chose Mirena. When the IUD was inserted for her, she had SEVERE pain (I've never seen her in that much pain) and bled for an extended period of time. However, mine was uncomfortable and kept me from being active for a few days, but then I was fine. Just proves to show how different it can be in people. HOWEVER, the most important thing to note is that the string should be cut between 3-4cm. Our practitioner cut the string less than 1cm, and I can't even explain the difference this has made for the both of us. My partner and my sister's partner complain of pain during intercourse (can feel the short string). Furthermore, I experience severe cramping EVERY time my partner and I have sex. Previous partners I've had also complain of this (feels like a stabbing sensation), and there are marks to prove it. PLEASE be aware of this before getting the IUD inserted, and make that clear to your practitioner. The other issues I've had are major spotting, and inconsistent periods (even though I shouldn't be having a period at all). The cramps are so incredibly painful and like nothing I've ever experienced before (during menstruation and also after sex). I would NOT recommend Mirena or any IUD for that matter because of all the complications, time, and money it has cost me. \n",
      "I 1st got the IUD installed Jan 9th 2015 . It was very uncomfortable during installation but only for a few seconds. Many women experience cramping or spotting after but I didn't. The ONLY thing I didn't like about it was when I got my 1st period it lasted for about 24 days. It was very annoying and I didn't consider having it removed. But the doctor  suggested that I wait it out and I did. Best decision I ever made , now my periods are normal , and the birth control definitely does its job. I love it ! I recommend it to anyone \n",
      "I have had the Mirena in 5 years. Insertion was definitely uncomfortable but fast and bearable.  I was given a pill to take that morning to help soften my cervix for insertion.  I was not uncomfortable/no cramping after but I did bleed for a few months as my body adjusted. When I was about to give up and get it removed, the bleeding stopped, totally.  I have had no periods, no cramping, no babies for 5 years.  I am about to get it replaced.  The Dr. said I could take 2 doses of the stuff to open up my cervix this time, to make placement more comfortable. Whew, that should help.  I know there are possible side effects but there is with any drug/method.  This has worked very well for me.  I also like that less drug is circulating in your system with Mirena because it is more localized in your uterus than systemic oral contraceptives.\n",
      "I recently switched insurance company's and my new one did not over the Vaginal Ring I was previously using.  So, I had to switch and I really do not like the pill, just because of the Hassel of having to remember each day.  So when I found out my insurance completely covered the Mirena I took it.  I had not read any reviews, just went by what my new doctor had told  me.  The insertion was the worst part. I like to say that I have a high pain tolerance, but this was just painful. On the Brightside it WAS over quick.  After that I was extremely sick (I have not had kids)- I was in the bathroom for a good minute and then called off work.  I was cramping the rest of the day, but not any where near how I would have cramped during my period. Most definitely bearable (did not take any ibuprofen or Tylenol. This is day two and the cramping is gone, no bleeding expect when I use the restroom.  So far im happy.  If anything like I have seen In the other reviews happen, its coming right back out.   \n",
      "I've had Mirena for 1yr. I'll just say the pain of insertion was excruciating. I had severe cramps on and off for months, and i have a high pain tolerance. Since i lose globs of hair daily, gained 20lbs, moodiness, and extremely low energy levels. I even went to the doctor and had a lot of blood work done to prove it wasn't anything else causing these issues. Not happy with Mirena and will be removing. \n",
      "I've had my IUD for two months and I love it. Insertion was painful but fast. I did have strong cramps for about 12 hours but was at 100% the next day. Since then I've had no side effects, no periods, no babies. Highly reccomend.\n",
      "Got this in September 2014 after giving birth to a stillborn that was the result of a missed pregnancy. Started getting migraines 3 months after having it placed & just thought it was a new health issue I would have to deal with. After reading possible side effects & seeing that migraines was 1 of them, I plan on getting it removed & getting a different IUD.\n",
      "I had a mirena IUD put in July 2014. It was amazing for the first 6 months, I absolutely loved it! That was until January, I found out I was pregnant. Unfortunately when they removed the IUD it was an instant abortion. I have now got a second IUD and hope that this one is more effective!!\n",
      "I had Mirena placed in late October 2014.  I decided on this form of birth control because I had heard many good things about this particular IUD.  I had just given birth to my second child, 3 months before getting Mirena.  I liked the idea of a worry free birth control and not having a period.  My doctor reassured me that this form was reliable and easy to use.  My experience with placement was excellent. It wasn't painful and the procedure was very fast (it took less than 10 mins start to finish).  Since getting Mirena, I have had very little bleeding, minimal cramps, no mood swings, and do not worry about getting pregnant.  I love not having a period and feel this is better for my body because I am not drastically changing my hormones.  I did not have a good experience with birth control pills as they messed with my hormones and caused a lot of problems.  \n",
      "I'm writing this about the actual insertion process since I just got it today (and survived!). Everyone freaked me out about getting it so I felt I owed it to others to let them know it's not that terrible. I've never had children-fyi. \n",
      "\n",
      "The insertion process was about a minute. The measuring of the uterus was probably worse than the IUD. I did bring my hubby for moral support. I may have squeezed his hand a lot :-) once the device was inserted I had a minute or so where I needed to compose myself. I wasn't dizzy but definitely jittery! \n",
      "\n",
      "I'm dealing with some cramping tonight but nothing terrible. I'm anxious to use this because I've been on the pill for five years and needed a change. I'll review after it's been a while to update. Good luck ladies! \n",
      "I had it in for 5 years and loved it!  I strongly recommend.  The putting in process feels like someone stabbing your uterus, OUCH!  I stopped having periods month 3 into it and only spotted a few times within the 5 years. I did develop two ovarian cysts and ultra sounds ruled them nothing to be concerned with and both went away on their own.  I sometimes got the \"time of the month\" mood swings but overall I LOVED the Mirena and strongly recommend it!  Once we have a baby I am putting one back in.  Easy, effective birth control and the best NO PEIRODS!!    \n",
      "I read a lot of scary reviews about the pain and problems after having Mirena IUD put in so, I thought I'd write my own review. It's not nearly as scary as what I had read. \n",
      "I got my Mirena 3 days ago. I've had one child via c-section 8 years ago. Overall the experience was better than I anticipated. It only took about five minutes for the entire procedure and maybe only 60-90 seconds of pain, when opening up my cervix and putting the IUD in. It wasn't exactly pleasant but I was able to deal with it. I kept waiting for the real \"excruciating pain\" to come, but it never happened. It was over before I knew it.\n",
      "I did take it 800 milligrams of Advil about an hour beforehand, so that may help but I do have a high tolerance for pain. \n",
      "I am on my second Mirena IUD after having the first one in a little over the 5 years that it is effective. I have not had any problems with my Mirena. Insertation went smoothly, just a tiny cramp when my cervix was touched, and a couple minor cramps the rest of that day. Within the 2nd month of having it, my period had completely stopped, no spotting at all. I was a high risk according to my doctor as I had never had children and often an IUD is harder to insert and can sometimes be rejected or overly painful for someone who has not had a child before; but I had no issues at all. I was happy enough with the first one to go ahead at it's expiration and get my second put in. \n",
      "I am giving my review today because reading bad reviews kept me from getting Mirena for over a year!! I have had it now for one month and doing great!! The reviews about the actual procedure scared me to death, but with more knowledge and reading accurate and positive reviews I went for it. The total process took about 15 minutes and the \"pain\" many talk about will all depend on your tolerance, but really it was a sharp pain, stabbing etc...it was an immediate intense cramp!! When she said she was opening the arms, that is where blood rushed to my head and I saw stars, however, this was just a shock to my body and BOOM the cramp set in! I was a little light headed for about 20 mins and so they let me lay as long as I needed. I took 800 mg of IBprophen before going in and that helped. A little spotting for a few days after accompanied by cramping (normal period cramping, but intense at times) now I am a month into it and don’t even know I have it! Today I was supposed to start my period and nothing!! Hoping I will continue to not have them! I love Mierna and glad I made my decision. Read reviews BUT most of all talk to you doctor. If you have a good relationship and communication going with them, it will be a breeze! PS I ate a Milky way Dark Chocolate bar after having the procedure...I felt I really earned it! :) haha good luck to you.\n",
      "DO NOT LET YOUR DOCTOR MAKE YOU THINK YOU HAVE TO KEEP THIS IN!!! IF IT IS NOT WORKING AND YOU HAVE THE SIDE EFFECTS THEY SAY YOU CAN'T HAVE DON'T LISTEN. YOU ARE NOT CRAZY, YOU CAN ABSOLUTELY HAVE SIDE EFFECTS FROM THE IUD. IF YOU WANT IT OUT AND YOUR DOCTOR WONT DO IT, FIND A DOCTOR THAT WILL!\n",
      "Was terrified of the horror stories I read about mirena, so glad I just gave in and tried it. I am 26, no kids. Very uncomfortable insertion followed by intense cramps for one day, and spotting for 3 months. I almost gave up, so glad I didn't. Now my periods are SO light (I went from needing multiple super plus tampons in one day to being fine with a regular size and never filling it up) my cycle is 28 days to the second and very predictable, my weight/skin/mood/sex drive have all stayed the same, and nothing beats the peace of mind of knowing my birth control is taken care of for years to come! I love mirena and would recommend it to anyone. Don't buy into horror stories! They are the exceptions, I am the average patient.\n",
      "I had this inserted in October.  I had my normal period shortly after and have not had another since.  No spotting either.  I do not even know it is inserted.  No side effects at all.  The initial insertion was very, very painful but passed within less than 5 minutes.\n",
      "DO NOT, I repeat DO NOT get mirena inserted if you have not had a child. I am in my mid-teens and got mirena put in about 7 months ago and just got it removed earlier today because I could no longer stand the excruciating pain. I have a very high pain threshold, but this device has caused me pain like no other. I instertion, was painful, as expected. But months after, until today, I was in constant agony in my lower abdominal area that I did not experience before mirena. It felt like something was pinching my ovaries from the inside every time I took a step or a sudden movement. It was though, very effective at preventing pregancy! It was also convenient because for a teenager, it is easy to forget to take a pill every day at the same time. The moment I got the IUD removed today, I felt an instant release of tension in my uterus, something I have obviously never felt before, but I know now that what was causing me pain, was the mirena.\n",
      "I did a lot of research before finally deciding to switch from the pill to an IUD, I was sick of remembering to take it everyday and then the panic attack that occurs when you realize you forgot.  After reading many reviews I was nervous but ready to move forward with Mirena.  As with most reviews I feel like people are more likely to post their negative experiences than those with positive, so I felt it was important for me to share my positive experience.  Yes, it hurt like crazy to put in, I have a high pain tolerance, but its a weird cramping pain that I had never felt before.  Thankfully the extreme pain faded relatively soon after the Dr finished up.  I had minor cramping for the next couple of days but nothing to terrible.  I would recommend timing it with your period, you are going to be spotting anyways but this way you get to knock out two birds with one stone, I wish I had done that.  Important ! It takes about a week to 2 to become effective, just be safe.  I have now had it for a month, and have not noticed any side effects, but as I stated earlier I have been a bc user for 9 years so the weight gain, acne, and other issues happened when I was still in high school.  All in all, I am very pleased with Mirena and would recommend it and have recommended it to my peers.\n",
      "I chose Mirena because The Pill became too expensive to buy every month.  I was happy to find out my insurance paid for 100% of the costs!  I only cramped for about two weeks after, and those were very mild, but I don't have a history of cramps either.  I do not have a period anymore (which is great for saving $ on tampons!) although I do still have some symptoms of PMS each month.  The only downside I have to say about it is that because the IUD doesn't have the same hormones as The Pill, my acne isn't being regulated like it was before, but it's definitely not unmanageable.\n",
      "This is my third year with my mirena IUD.  The initial insertion was extremely painful and I felt tenderness and had difficulty moving around for the next day or so.  I experienced bleeding for two weeks straight.  My first year or so with Mirena was awful.  I would have extremely heavy periods and painful cramping that lasted up to four weeks.  Eventually this subsided and now I rarely get a period at all, and if I do, it's very light spotting every couple months.  I also developed ovarian cysts which were EXTREMELY painful during intercourse and led me to have four ultrasounds and repeated visits to the doctor.  Ovarian cysts are very common and may or may not have been the result of my IUD.  Despite all the pain and turbulation I will still recommend Mirena.  I considered having it removed but I am glad I didn't.  It was worth the risk to have peace of mind and not have to constantly worry about pregnancy, birth control, or annoying periods.  Everyone's body will react differently and you have to ask yourself if it is worth taking the risk.\n",
      "I had my Mirena put in this morning and the experience was fine. The doctor told me what was going to happen and everything played out fine. It felt weird while she was measuring my uterus and placed it in. I have no kids and it didn't hurt at all. I read stories about females passing out from pain and the only thing that came out of my mouth was a few curse words due to just being nervous. I didn't take any pain medicine before hand but I took Midol after words and nearly 11 and a half hours later I feel completely normal. It felt like nothing but just normal cramps. I was on the pill for 6 years and I'm excited that I wont have a period anymore and don't have to take something everyday. two thumbs up so far and I recommend it.\n",
      "A few weeks after I was married, I had my annual appointment with my OB/Gyn and she suggested Mirena since my husband and I don't plan on having children anytime soon. I'm a petite 24 year old biologist fresh out of graduate school and of course did all of the research I could on the device itself, along with procedures for insertion and decided that Mirena was right for me. I want to post my experience as to share it with other ladies thinking about Mirena to hopefully ease your mind/help make the decision. \n",
      "\n",
      "I have never had children, nor have I ever been pregnant so my doctor suggested I take ibuprofen a few hours before and prescribed Cytotek to improve cervical plasticity. Neither seemed to help but that could have easliy been nerves.\n",
      "\n",
      "I suggest having someone drive you, I had my hubby drive be purely out of nerves and I'm thankful that I did. Another suggestion I have is to wear something comfortable and breathable up top (you'll only need to undress from the waist down). I wore a thick sweater and regretted it because I got really sweaty and clammy.   \n",
      "\n",
      "I'm not going to sugarcoat anything-the insertion hurt. A lot. It was a new pain I've never experienced so I wasn't all too sure how to process it and I ended up at the near-fainting point at the end. My doctor had to dilate my cervix which was the worst of it. Ow! She told me every step she was doing and made sure to keep me as 'comfortable' as possible and kept me laughing which helped a lot. If you can handle about 5 minutes of the most intense cramp-like pinching pain you've experienced, you'll be just fine. It is 100% worth those few agonizing minutes in my book. \n",
      "\n",
      "I curled up with a heating pad and Netflix for the rest of the day and was just fine. It's been 4 months now and I had to go back to my OB after a few weeks due to some crazy cramping (my body took some time to adjust) but other than that things have been awesome. No pill to remember? Yes please! I hope this helps :)\n",
      "I am going to write this review to hopefully help other women who have not had a child like myself. I am a 19 year old college student with extremely heavy periods and bad symptoms such as cystic acne on the pill, which I take for birth control. I talked to my doctor and recommended I try Mirena. Today, I went in for my proceduree. I was a little nervous, as I have read it is painful, but I could have never prepared myself for the horror story my procedure became. First, I was not given prescription pain medicine (courtesy of being a college student in a college town). I took 600 mg Motrin as recommended. Measuring of my uterus was incredibly painful and I was crying the entire time. Next, Mirena was started to be inserted. I let out a blood curdling scream. It was the most painful experience of my life. The pain resulted in me fainting and throwing up on myself, half way through insertion. A few minutes later, I woke up to a startled nurse and doctor laying cold towels on my head. I asked if the mirena was inserted, but she said no because I had fainted. They were willing to let me retry, but I would never even consider putting myself through that again. It was border-line torture. I have never been so traumatized in my entire life. What was worse, when I finally stood up, I saw all of blood on my sheets and blood started gushing out of me. I had to stand there completely naked and ask for wipes and a pad. It was done at 12 this afternoon, it is now 11 at night and I am still bleeding heavily and I don't even have the dang Mirena in!!! This is terrible. I also have extreme cramps and a fever of 101, so I probably will be going to urgent care in the morning. Warning to young girls or women without children, consider the implant they put in your arm first. Please. Take it from someone who has been through it. Or have it done in a hospital where you can be twilighted (I was later told they could do that). I'm happily sticking to pills. \n",
      "Love this!!! Insertion was one minute no pain dull cramps afterward. Insertion is like a normal pap smear.Went shopping after I had it the procedure. Minor spotting. I cant believe I waited this long because of the horrible reviews. I have children and took the pill for 17 years. No complications at all. \n",
      "I got the Mirena IUD 6 days ago. I did not find the insertion to be very painful. I counted a total of 7 seconds of pain including the measuring and insertion. The cramps are bearable but I still have them. I as able to go about my day like normal on the day of insertion which was done early AM. I only spotted for the first day and have not had any spotting since then. I had sex 24 hours after insertion and I did not experience any pain during or after. So far this device has been a dream come true! \n",
      "I got the Mirena IUD put in 06/10/14 and from the second she put it in until the day I got it removed 1.5 months later, I was in the most excruciating pain I have ever experienced in my entire life. I could not even stand up straight because my cramping was so bad, Ive never had children and I can promise it was as bad, or worse than contractions. I was glued to my heating pad and went to the ER three times in the month and a half i had it in thinking that something HAD to be wrong for me to be in that much pain. I couldnt even think straight most days, i was just in tears, not to mention the bleeding, blood clots the size of golf balls every two to three minutes an I was in too much pain to use a tampon and was changing my pad every hour. Finally i begged my doctor to take it out and as soon as it was out the pain was GONE!!! I bled even heavier for about two weeks which i heard was normal after removal. \n",
      "I would not recommend this birth control to anyone if you have not had children. It is SO unpleasant. I will never use Mirena again. \n",
      "I got mine inserted in October of 2011 and I was 22.  I am a healthy, physically fit woman, but I have a thicker build (but I am by no means, fat, as some would call \"thick\").  Anywho, I was 140 lbs, 5'6\", in great shape, great eating habits and everything when I got the Mirena, thinking it would be great for me.  Well, a year later I had gained 30 POUNDS! and I was thinking it was because of me moving across country, starting a new job and the stress.  When I moved, I started working out again to lose the weight.  2 years later, and after working out for 7 months (at least 4-5 days a week), I stepped on the scale and weighed 45 lbs more than when I got the Mirena inserted, but hadnt lost but two lbs the whole 7 months of working out and eating right!!! I went to several doctors and they finally got down to the IUD being the reason that I could not take the weight off. So, I got it taken out, switched to Loryna (another form of Yaz that worked GREAT for me years ago), and literally two weeks later, I am already down 4 lbs without trying that hard. NO JOKE!  I will NEVER in my life get Mirena again.  It was great to not get pregnant again, but it was definitely not worth almost 50 lbs being added to my body!! :( \n",
      "Got the Mirena in 5 days ago.  Insertion hurt at times, but I've never had children.  Really what hurt was when my doctor measured my uterus, actually put the applicator in, and then the arms on the IUD opened.  That part really shocked me.  It sort of sprung open.  I haven't had any real spotting and just a day or two of cramping.  The only spotting I've had is there's a little bit of rust colored blood when I wipe.  But not even enough to need to wear a pantyliner.  The first day I had cramping, but I expected way worse.  I was on Microgestin before, so I don't know if that has helped the transition for me.  But so far, I love it.  I don't have to think about taking a pill everyday, I don't have to think about it.  My husband couldn't feel it during sex, and it didn't effect me at all either.  I was worried at first that my strings were to long, but I learned that with the Mirena, they should be a little longer.  If to short, they have a better chance of poking your partner, and can make removal harder.  I just pushed mine up around my cervix, and that did the trick.\n",
      "If you can bear to go through a little discomfort and/or pain, I would say talk to your doctor and see if it's a good option for you.\n",
      "I highly recommend it.\n",
      "I had mirena since 2009. I just had it replaced this last month. When I had my son I didn’t use any form of pain medication and in all honestly getting mirena replaced hurt more than having a baby. I have a fairly high pain tolerance. I remember when I had the first one put in pain, pinching, and cramps. But this time it was worse. Not sure it was because the other one got removed and then a new one put in but either way it hurt. I had constant pain from the time she removed the old and about 20 minutes after the new one was inserted. After those 20 minutes it felt like someone was digging in my uterus with a dull spoon. The drive home was horrible. I felt like screaming, crying not sure. I would defiantly recommend a driver. I took ibuprofen an hour before the procedure and took it again on the ride home. I had constant pain for 6-8 hours and then if finally settled down. The next day I had a little cramping but nothing too major. Now a week later I’ve been doing alright. It’s a great birth control once you get past the first day of pain. I don’t understand why they don’t offer a form of pain medication just for the procedure. It would be very helpful. I’m sure it will still hurt but a little something could make a world of difference\n",
      "I decided to write a review because before I got my Mirena inserted I read a bunch and most were negative. My insertion was a breeze, I took ibuprofen an hr before my appointment, it took 15 mins once I got undressed and that was spent waiting for the dr pretty much. There is a small cramping sensation when they put it in but that is it, did not hurt at all!!! I went in there full on anxiety because I thought it was going to be the most painful thing every, boy was I wrong. Small bit of spotting for the next couple days, didn't have to even wear a pad. No cramping, No huge periods, No having to remember my Birth Control every single day. I love Mirena!! I would recommend it to everyone, yes there are side effects for some people but if you're generally healthy go for it. For every bad review you see there are probably at least 20 good reviews that went unwritten because the women were so happy with their Mirena that they went on  with their lives carefree!!\n",
      "I have had the Mirena for about 4 months now, and so far it has worked for birth control but I have had one week without a period this whole time so far.  Also I have gotten regular menstrual cramps with it and have been moody/irritable.  I am not sure what to think of this yet but I like not having to worry about it for 5 years unlike the Depo shot that I was previously using and had to receive an injection every 3 months.\n",
      "Extremely painful insertion.\n",
      "\n",
      "side effects: I am basically PMSing ALL THE TIME. breast tenderness, cramps, extreme mood swings, and bleeding two weeks out of the month.\n",
      "\n",
      "Worst of all, the strings fell out within the first month of use. I have to get a hysteroscopy: a procedure done in the operating room under anesthesia. I am basically terrified.\n",
      "\n",
      "cost: ridiculous- I have been charged a $1000 so far and I have not done the procedure yet.\n",
      "\n",
      "\n",
      "Insertion was just fine, but after three months was when the side effects started showing up - weight gain, headaches, loss of sex drive, thinning hair, feeling sad almost all the time... had it taken out after trying it for 8 months. All side effects stopped within 1 month - so happy to have had it removed!!\n",
      "Had my my mirena exchanged for a new one after 8 years. You are only supposed to leave it in for 5 and my cervix was very tiny since I have not had a period in 8 years (because of the mirena). The first insertion was a joke - didn't hurt at all. This time it poked me hard for about 4 or 5 times when she inserted the applicator to remove the old and then when the new one was put in. I think a doctor's experience also had to do with it. My first doctor had done this hundreds of time (so find someone who has done this a lot). I am glad they monitored the insertion with ultrasound so my uterus would not be perforated. Cramps lasted for an hour afterwards. For a few seconds of (bite your teeth together-)pain I will gladly do it again. It seems like my period did not come back - just a little bleeding right afterwards. I am totally happy with the mirena and so happy I don't have to deal with having a period!\n",
      "preg on this form if birth control\n",
      "\n",
      "\n",
      "I used Mirena for 4 1/2 years with horrible migraines, cramping, 18-days/month bleeding, and deep depression.  Since having it removed 5 months ago, I haven't had a single migraine, cramps have disappeared, period is now 2 to 3 days/month, and depression has subsided.  Very grateful that I had it removed--wish I'd done it sooner!\n",
      "mirena hormonal iud was in for five years, the cord wrapped around my cervix causing fluttering feeling for the last three years it was in, i had no period at all during these five years and after it was ouit for six months we got pregnant and lost her! My periods have not been normal at all in the three years it has been out and now i will never be able to have babies again all because of the IUD.  Do not get this form of birth control as it is just not worth it!\n",
      "I had an etopic pregnancy. It moved and started causing pain. Found out I was pg in the ER and them my tube began to rupture a week later. I'm now missing a tube and may not be able to have any more children. They say it only happens to a few but when you are the few it is huge. Not only did we loose a baby but we have huge bills from my surgery. \n",
      "I had the Mirena inserted about 2 months ago. I was taking birth control pills before.  I have grown children & don't want any more, so Mirena & Essure were the options suggested by my doctor. I chose Mirena because I knew it could be easily reversed if there were complications.  Very simple insertion procedure, although I did have some painful cramping for a couple of hours afterward.  I had extremely light bleeding for a few weeks.  It stopped & then very light bleeding again a few weeks later, but only for a few days. I haven't had any pain, any mood swings (or any more than I did before), & love that I don't have to remember to take a pill. I've checked the \"strings\" as the doctor recommended & they're in place. They cannot be felt by my husband when we're intimate.  Also, before Mirena, I was constantly hot. Now, my feet actually get cold. I know that sounds like a strange thing to be happy about, but I am! I have only positive things to say about Mirena. Love it!\n",
      "This was the best decision I ever made.  Neither myself nor my boyfriend have ever felt the IUD when we are intimate.  Some say the insertion is painful, but I did not find that to be the case.  My doctor had me come in and get the IUD when I was menstruating, and I believe this helped a lot!  She didn't even need to numb me during the procedure.  I have also found that unlike birth control pills my mood is much more cheerful.  I was just talking to my best friend the other week, and she too got off of her birth controls right after she got married, and she agrees that her mood feels much more stable without having all those hormones being distributed throughout her entire body.  Finally, I love how light my period is!  It lasted only 4 days with the Mirena and was barely noticeable, whereas with my birth control pills, the period lasted 7 days and was fairly heavy.  \n",
      "I just had my mirena removed today after having it in for 4 1/2 years. My overall experience was great! When I first had it placed I will say it hurt like the dickens! I have a strong tolerance for pain but when getting it inserted it seriously felt like the dr was snipping my insides with scissors. Right when I was about to say \"okay, I'm done, no more\" it was completed. In the end I would say the three minutes of discomfort were well worth it. I appreciated the missing periods. Skipping several months was the norm for me. In fact I am certain I went about 8 months without a single period. This did not hurt my feelings. As I did not become pregnant, I would say it was effective. I would also venture to say that I cannot recall any mixed or bad feelings towards the device the entire time it was in. I did not experience any bad symptoms therefore until it was time for a pap, it was easy to forget it was even there. Removal was easy peezy! I have a tendency to run into bad luck medically so I expected to be one of the demographics who experienced the perforation, but in as little as two minutes it was done! No troubles whatsoever. I would and have fondly recommended this to a number of people who have also experienced great things with this voice of contraception.  \n",
      "I had my IUD inserted yesterday, the procedure would have been very quick if my doctor was able to find my cervix, but that is just an abnormal thing about me. Other than that it truly was painless, when she actually inserted the IUD. I am a virgin so when they open up your vagina that part is a little uncomfortable and a lot of pressure. When I went home I had slight period like cramps just took 800mg of ibuprofen and fell asleep for two hours when I woke up I was fine. I'm on the second day and I still haven't had any cramps whatsoever. So everyone is different but don't let the negative reviews hold you back!   \n",
      "Im 19 and just got my mirena inserted earlier today. The insertion was very uncomfortable and the cramps are really bad for the first hour or two, but beyond that it has been fine. I laid in the bath tub in warm water and that helped ease the cramping pain a little. I have been lightly spotting since I got it in, which they said is expected. The cramping may have been worse for me because I have not had children so the device is a little big for my body, but the Skyla (smaller, three year) alternative wasn't available at my clinic. \n",
      "\n",
      "I have switched from the bc pills, to the depo shot, to Mirena and so I'm hoping the IUD is the best option for me. I experienced a lot of weight gain with the depo (15-20 lbs in about a year), and my hormones were all over the place. Plus my doctor said she read studies that said the depo shots can lower your bone density with long term use, so she suggested I switch to an IUD. So far it seems like the best method and I'm just curious to see what happens with any type of weight gain or loss in the future. But definitely take ibuprofen before your insertion!! It helps a lot. \n",
      "I'M 36 AND HAVE 2 CHILDREN. I LOVE THIS DEVICE! IT'S WONDERFUL NO SIDE EFFECTS OTHER THAN NO CHILDREN....I RECOMMEND THIS DEVICE\n",
      "Hi! I'm a 20 year old college student who's never had kids & I opted to get Mirena due to horrible side effects from oral contraceptives! I just wanted to share my story:\n",
      "\n",
      "Due to a hard cervix, low pain tolerance, and a tendency to faint, my Mirena had to be placed under anesthesia. My doctor attempted to place it in her office, but it was just too painful! Anyone who has a decent pain tolerance should be able to handle the insertion, but if you have a lower tolerance like me anesthesia makes it almost pain free. Talk to your doctor about it if you've psyched yourself out by reading all these negative reviews.\n",
      "\n",
      "Besides insertion, Mirena has been awesome for me. I got it about a month ago and so far, I love it. I bled for 4 days after insertion- and then nothing. I barely felt pain after the insertion (I did take advil as recommended) and was back to my normal self two days after getting it. The only side effect from insertion, besides some period level cramping, was dizziness lasting a few days. \n",
      "\n",
      "So far so good with Mirena! I've only had it a month so fingers crossed, but all in all I've lost bc weight, lost bc acne, and don't have the horrible mood swings I used to on bc.\n",
      "I got on Lorena after my first pregnancy. Everything seemed ok and I never got pregnant while using themed. I started to feel moody after I went off my periods each month. A week after my period I felt as if I was coming on again. Towards the end when I had been on the same insert for about 3 1/2yrs I did not seem to have a libido. I felt these strange internal pains in my vagina. I finally requested it to be removed, and I instantly mentally felt relief. I will stay away from this device.\n",
      "I had mirena inserted 3 weeks ago. My dr. recommended I try it bc I could not find a pill that didn't make me feel crazy and helped with heavy and painful periods at the same time. Being off the pill, I couldn't handle my periods and had bad acne. I have NO children, I am 27 yrs old. I was VERY hesitant since there are negative reviews everywhere about mirena. I promised myself I would commit to writing an honest review after.. Normally, I have severe menstrual cramps and heavy bleeding during periods. Like I said, pills were making me feel depressed and just not myelf. (I went through 5 different types). I was done with pils.. Insertion for mirena took about 2 minutes. My dr. told me it wouldn't \"hurt\" it would just be an \"ouch\".. I have to slightly disagree with that. It was a pretty BIG \"ouch\"! It felt like really strong cramps all at once, hot and pressure. It was very uncomfortable, but was done very quickly. Afterward, I felt hot and still had pretty heavy cramps, but they began to ease up. I drove home, and continued to have on and off strong cramps that night. For the next 3 days, I had heavy cramping, and felt bloated but no bleeding at all. Day 4 cramps were done but still felt bloated. A few days after that, I forgot it was even there. I haven't felt it, had any cramps, no bleeding, no nothing from then on. I LOVE it! To me, that 2 minutes of pain was SO worth it. I feel like myself again, I'm not moody, no acne, no weight change. I wanted to be honest about the insertion..it was not pleasant. But for me, very worth it. Also, while on the pill I had no libido, that is not the case anymore. It's back! I am very happy with the mirena. I wouldn't have tried it if I wasn't so depressed while I was on the pill, but I'm glad I finally did.\n",
      "I did not have such a great experience with Mirena.  I had it inserted 5 years ago (in 2009) because I did not want any children.  My doctor didn't want to perform a permanent procedure because he thought I would change my mind, so I wanted to go with the next thing to permanent and it just so happened to be the Mirena.  Insertion wasn't any trouble.  It was somewhat painful, but nothing that wasn't manageable.  Afterwards, came the worst part.  Within a week, I had a 6cm cyst on my right ovary.  It ruptured on it's own and started leaking and they wanted me to come back in 6 weeks to make sure it was gone.  When I had my 6 week check-up, the existing cyst had sealed itself up AND I had another 4 cm cyst on my left ovary.  Let me say, that was the God awfullest cramps I've ever had.  I never got rid of the cysts.  They came every month the week before I started my period.  I never got rid of the cramps either.  To begin with, I had them about every 2-3 days and then over the 2 1/2 years I kept the Mirena, the cramps began to show up more often.  A few months before I had it removed (2012), I was cramping every day or every other day at the most. I was taking anywhere from 8-12 Ibuprofen to try to get through the day.  I cramped so bad that 5mg Lortab wouldn't completely take the pain away.  I have been Mirena free for almost two years now and I had my permanent procedure done a month after I had the Mirena removed.  BEST DECISION I'VE EVER MADE!!!!  All the negative reviews from other women aren't just because they're whining.  I know what I went through and I can sympathize with you.  I would suggest talking to other women before you make this decision.  I haven't talked to one yet that would recommend it.\n",
      "I had mirena for 3 years. The first couple of months were fine. I bled for about 4 months straight. As far as not getting pregnant, it worked really well. I never had any issues. For the last year, my hair started falling out, i gained about 25lbs and was extremely moody. I had no sex drive,  and was very very unhappy with myself. Finally my hair was so thin and I couldnt figure out why, so I started googling about it. I found that other mirena users had the same issue. I also had very bad headaches. So finally after my 20th migraine, I went to the doctor and she advised that it be removed. I have been off of it for about 10 months now and I'm finally starting to feel like a normal human being again. I dont have headaches and my hair has finally grown back in and its healthy. I dont see huge clumps in the shower anymore. I have a regular period, no mood swings, my anxiety has gone down tremendously, and I'm starting to lose the weight I gained. Mirena isn't for everyone, but it is worth a try. If  you don't like it, take it out. It's that simple. But if you are feeling this way with no hope, because that's how i felt, it does get better and you can feel normal again :)   \n",
      "I had a mirena inserted four months ago after 15 plus years of depo injections. I had been very happy with the depo but was starting to show signs of bone thinning. I procrastinated about the mirena for many months, but am really happy with the decision. I haven't had children and haven't had periods since starting depo. The insertion was very quick - a couple of minutes - but i experienced intense pain at the time of release. This passed within half a minute but did cause my blood pressure to drop very low with the shock. I was monitored by the nurse for maybe thirty or forty minutes until my blood pressure stabilised.\n",
      "For the next 24 hours I had some pain and cramping - probably like having a heavy period, but I can't remember! I took ibuprofen to manage the pain and topped up with codeine the first night to help me sleep.\n",
      "Since this time, I've had no problems at all - no pain, no spotting, no cramping and most importantly my periods haven't returned. I've lost a bit of weight in this time without doing anything differently with my diet and exercise. I'm not due for another bone scan until about a year after insertion, so I don't know yet if my osteopenia is reversing.\n",
      "Overall I think it's a great product. In five years I'll psych myself up again to have it replaced.\n",
      "I read many reviews and research Mirena before deciding to get it. I knew from the beginning that I wanted to wait a few months before writing a review because it just seems as though people were getting it put in and the next day or the next week were writing reviews (good or bad) without truly experiencing it, so I've had it in 4 months which I think is beyond sufficient time for a decent review. Initially, I had just gotten married and wanted something in quick, fast and in a hurry = that was a mistake. I called Planned Parenthood and would have gone there but due to, what I thought was unethical practices, I didn't go - great thing I didn't. I ended up finding a OB-GYN that is highly rated, top class and he expects my insurance. I went and everything was fairly simple. Of course, the insertion was uncomfortable and slightly painful, but I had to do my part as best as I could to relax my body, breathe easy and trust in the Doctor. He gave me prescription ibuprofen which they gave before the insertion and directions to take every 4-6 after for a few days, which I did, so I never felt pain. I did have some follow up appointments where I expressed concern over bleeding that took place over a 9 day period - my period has never been that long, so needless to say I was not pleased and though t about having it removed, but kept telling myself, with the advice of the Doctor, that my body has to get adjusted to having a foreign object in it, and there is a 6 month adjustment period so if I could hold out and everything turned out okay then the benefits of not having to worry about getting pregnant for 5 years would be so much worth the bleeding and un-comfortableness. I (and my Doctor) was right. The symptoms became fewer to the point where the worst that may happen is spotting after my husband and I have sex from time to time that last a couple of days. No more 9 day bleeding. No pain. No discomfort. Received several follow up visits and I'm fine. All in all - I like it.\n",
      " I was absolutely terrified yesterday going in to get my Mirena. I had read all these negative reviews but saw where the majority of reviews the women had great outcomes with Mirena so I was hopeful I would do great. Boy was I wrong. The doctor could not insert the IUD because he said I had a hard cervix and that the IUD had bent and wasn't useable any longer. This was after 10 minutes of excruciating pain of the doctor trying to implant it. I had severe cramping and burning pains. I got diaphoretic, flushed, and blacked out for a moment. Next thing I knew the nurses had me upright putting water on my face. It was awful. I have been a nurse for over 8 years so I tried to bear with it but this insertion or attempt to insertion was just as bad or worse as other women have described. So I do not recommend this just in case the next person could possibly experience the pain I did. \n",
      "Since being on mirena I have had no period which is a plus, but cramping along with weight gain was defnitely a negative. I also experienced more moodiness and loss of sex drive. I absolutely do not like this form of bc and I wouldnt recommend it.\n",
      "I got the IUD (Mirena) inserted 6/10/14 which was the last day of my period. On 7/16/14 I will be getting a check up to make sure that it hasn't moved. When I first got the procedure it took only a few minutes and there was definitely PAIN. Thankfully, it only hurt for a few moments but I would recommend taking some Advil about an hour or two before getting it inserted if you're not good with pain or have never had children. I currently have one child who is turning 3 yrs old this week. I spotted for about 4 days after having it inserted along with having cramps and back pain. I took Advil and that really helped. I also started working out more which seemed to help stop the bleeding. For 2.5 weeks after that I had no bleeding, bloating or cramping. My husband also told me he couldn't feel the strings which I was really happy about. Then my period came on July 30 and was pretty light but the bloating and the cramps were ANNOYING so I took 4 Advil's once a day before bed so I could sleep. So far I have been bleeding for a total of 2 weeks - the spotting is very light and has a strange smell. I continue to take the Advil which REALLY helps but my only gripe is that I can't have sex while I'm bleeding. When I gave birth to my son 3 years ago I bled for 3 months after he was born so I decided that I will wait 3 months for my body to regulate around this Mirena. If I'm still having irregular bleeding then I will be getting it removed because I'm not sure my husband and I want to go several months without sex. Like I mentioned before I have a follow up appointment with my doctor so I will ask her if there is anything that I can take in conjunction with the Mirena to stop the spotting. I heard there are herbs like Dong Quai and Raspberry Leaf tea that help to lessen or stop bleeding. I really hope this Mirena works out for me because my husband and I don't want another child for at least 2 more years and I've had bad experiences with taking the pill.\n",
      "An IUD what a wonderful invention! And it is.... It just wasn't compatible with my body! Before I got pregnant I had nice short 3 day periods, although that was when I wasn't on birth control. I had my son for that very reason (haha). 6 weeks after his birth I got the mirena IUD put in and I was \"stoked\". It was very very crampy the first few days but with some 600mls of ibuprofen a day it was bearable. At first there were no periods and no worries because those are the two best selling points of the mirena, right? After 6 months I started having irregular periods. By 13 months I was having periods that were EIGHT DAYS LONG and they were beginning to occur once at the first week of the month and once at the last week. I was goin through about three tampons a day which was no where near normal for me, plus I had cramps that were definitely worse than they had ever been before. Whether it was my new post-pardum body or the mirena, I'm not sure but I put my foot down and that was it. Needless to say I'm extremely disappointed that it didn't work out because I have issues remembering to take pills, but insanely long periods aren't worth it! I hope I have better luck with my Sprintec.\n",
      "mirena insertion, and removal, were difficult to get access to, because it takes a special surgeon, other than that this is the best birth control i ever knew, had no period for 8 years, no pain for me, and was very effective in keeping me from pregnancy,  i got this after i had my 2 boys, then had it removed because i wanted a daughter, and after i have my daughter at the end of this year, if i choose to have birth control it will definitely be the mirena again. \n",
      "nan\n"
     ]
    },
    {
     "ename": "AttributeError",
     "evalue": "'float' object has no attribute 'lower'",
     "output_type": "error",
     "traceback": [
      "\u001b[0;31m---------------------------------------------------------------------------\u001b[0m",
      "\u001b[0;31mAttributeError\u001b[0m                            Traceback (most recent call last)",
      "Cell \u001b[0;32mIn[42], line 1\u001b[0m\n\u001b[0;32m----> 1\u001b[0m get_basic_stats(all_data)\n",
      "File \u001b[0;32m~/Documents/college 3.1/eecs 487/eecs487project/naive_bayes.py:30\u001b[0m, in \u001b[0;36mget_basic_stats\u001b[0;34m(df)\u001b[0m\n\u001b[1;32m     28\u001b[0m for i in range(len(df)):\n\u001b[1;32m     29\u001b[0m     if df.iloc[i]['label'] < 4:\n\u001b[0;32m---> 30\u001b[0m         num_articles[0] = num_articles[0] + 1\n\u001b[1;32m     31\u001b[0m     else: \n\u001b[1;32m     32\u001b[0m         num_articles[1] = num_articles[1] + 1\n",
      "\u001b[0;31mAttributeError\u001b[0m: 'float' object has no attribute 'lower'"
     ]
    }
   ],
   "source": [
    "get_basic_stats(all_data)"
   ]
  },
  {
   "cell_type": "markdown",
   "id": "exterior-rental",
   "metadata": {
    "id": "exterior-rental"
   },
   "source": [
    "### C.2.3 Data processing and ngram calculation [6 points]\n",
    "Now you need to calculate the ngram counts. **Fill in** the function ```fit``` that, given a dataframe of training data, calculates the ngram counts in each category and the prior probability for each category. Concretely, **store** the total occurrence of each ngram in each category in a list called ```self.ngram_count``` so that ```self.ngram_count[0]``` contains $count(w, c_0)$ for all $w$ in the vocabulary, and ```self.ngram_count[1]``` contains $count(w, c_1)$, etc. ```self.ngram_count[i]``` should be an array of shape $(1,|V|)$, where $V$ is the vocabulary (total vocabulary across both classes). **Store** the total occurrence of all ngrams in each category in a list called ```self.total_count``` so that ```self.total_count[0]``` $=\\sum_{w\\in V}count(w, c_0)$, and ```self.total_count[1]``` $=\\sum_{w\\in V}count(w, c_1)$, etc. **Store** the prior probability for each category in ```self.category_prob```. You need to follow these rules when calculating the counts:\n",
    "- convert all letters to lowercase;\n",
    "- include both unigrams and bigrams;\n",
    "- ignore terms that appear in more than 80\\% of the headlines;\n",
    "- ignore terms that appear in less than 3 headlines.\n",
    "\n",
    "Hint: use ```CountVectorizer``` in sklearn and store it as ```self.vectorizer```. You need to use **both legitimate and clickbait headlines** to get the vocabulary."
   ]
  },
  {
   "cell_type": "code",
   "execution_count": 37,
   "id": "personalized-opening",
   "metadata": {
    "id": "personalized-opening"
   },
   "outputs": [
    {
     "ename": "ValueError",
     "evalue": "np.nan is an invalid document, expected byte or unicode string.",
     "output_type": "error",
     "traceback": [
      "\u001b[0;31m---------------------------------------------------------------------------\u001b[0m",
      "\u001b[0;31mValueError\u001b[0m                                Traceback (most recent call last)",
      "Cell \u001b[0;32mIn[37], line 2\u001b[0m\n\u001b[1;32m      1\u001b[0m naive_bayes \u001b[38;5;241m=\u001b[39m NaiveBayes()\n\u001b[0;32m----> 2\u001b[0m naive_bayes\u001b[38;5;241m.\u001b[39mfit(train)\n\u001b[1;32m      3\u001b[0m \u001b[38;5;28mprint\u001b[39m(\u001b[38;5;124mf\u001b[39m\u001b[38;5;124m\"\u001b[39m\u001b[38;5;124mProbability for each category: \u001b[39m\u001b[38;5;132;01m{\u001b[39;00mnaive_bayes\u001b[38;5;241m.\u001b[39mcategory_prob\u001b[38;5;132;01m}\u001b[39;00m\u001b[38;5;124m\"\u001b[39m)\n\u001b[1;32m      4\u001b[0m \u001b[38;5;28mprint\u001b[39m(\u001b[38;5;124mf\u001b[39m\u001b[38;5;124m\"\u001b[39m\u001b[38;5;124mLength of self.ngram_count: \u001b[39m\u001b[38;5;132;01m{\u001b[39;00m\u001b[38;5;28mlen\u001b[39m(naive_bayes\u001b[38;5;241m.\u001b[39mngram_count)\u001b[38;5;132;01m}\u001b[39;00m\u001b[38;5;124m\"\u001b[39m)\n",
      "File \u001b[0;32m~/Documents/college 3.1/eecs 487/eecs487project/naive_bayes.py:74\u001b[0m, in \u001b[0;36mfit\u001b[0;34m(self, data)\u001b[0m\n\u001b[1;32m     72\u001b[0m     else:\n\u001b[1;32m     73\u001b[0m         training_labels[i] = 1\n\u001b[0;32m---> 74\u001b[0m \n\u001b[1;32m     75\u001b[0m self.category_prob = np.zeros(2)\n\u001b[1;32m     76\u001b[0m labels_sum = training_labels.sum()\n",
      "File \u001b[0;32m~/anaconda3/lib/python3.11/site-packages/sklearn/base.py:1151\u001b[0m, in \u001b[0;36m_fit_context.<locals>.decorator.<locals>.wrapper\u001b[0;34m(estimator, *args, **kwargs)\u001b[0m\n\u001b[1;32m   1144\u001b[0m     estimator\u001b[38;5;241m.\u001b[39m_validate_params()\n\u001b[1;32m   1146\u001b[0m \u001b[38;5;28;01mwith\u001b[39;00m config_context(\n\u001b[1;32m   1147\u001b[0m     skip_parameter_validation\u001b[38;5;241m=\u001b[39m(\n\u001b[1;32m   1148\u001b[0m         prefer_skip_nested_validation \u001b[38;5;129;01mor\u001b[39;00m global_skip_validation\n\u001b[1;32m   1149\u001b[0m     )\n\u001b[1;32m   1150\u001b[0m ):\n\u001b[0;32m-> 1151\u001b[0m     \u001b[38;5;28;01mreturn\u001b[39;00m fit_method(estimator, \u001b[38;5;241m*\u001b[39margs, \u001b[38;5;241m*\u001b[39m\u001b[38;5;241m*\u001b[39mkwargs)\n",
      "File \u001b[0;32m~/anaconda3/lib/python3.11/site-packages/sklearn/feature_extraction/text.py:1383\u001b[0m, in \u001b[0;36mCountVectorizer.fit_transform\u001b[0;34m(self, raw_documents, y)\u001b[0m\n\u001b[1;32m   1375\u001b[0m             warnings\u001b[38;5;241m.\u001b[39mwarn(\n\u001b[1;32m   1376\u001b[0m                 \u001b[38;5;124m\"\u001b[39m\u001b[38;5;124mUpper case characters found in\u001b[39m\u001b[38;5;124m\"\u001b[39m\n\u001b[1;32m   1377\u001b[0m                 \u001b[38;5;124m\"\u001b[39m\u001b[38;5;124m vocabulary while \u001b[39m\u001b[38;5;124m'\u001b[39m\u001b[38;5;124mlowercase\u001b[39m\u001b[38;5;124m'\u001b[39m\u001b[38;5;124m\"\u001b[39m\n\u001b[1;32m   1378\u001b[0m                 \u001b[38;5;124m\"\u001b[39m\u001b[38;5;124m is True. These entries will not\u001b[39m\u001b[38;5;124m\"\u001b[39m\n\u001b[1;32m   1379\u001b[0m                 \u001b[38;5;124m\"\u001b[39m\u001b[38;5;124m be matched with any documents\u001b[39m\u001b[38;5;124m\"\u001b[39m\n\u001b[1;32m   1380\u001b[0m             )\n\u001b[1;32m   1381\u001b[0m             \u001b[38;5;28;01mbreak\u001b[39;00m\n\u001b[0;32m-> 1383\u001b[0m vocabulary, X \u001b[38;5;241m=\u001b[39m \u001b[38;5;28mself\u001b[39m\u001b[38;5;241m.\u001b[39m_count_vocab(raw_documents, \u001b[38;5;28mself\u001b[39m\u001b[38;5;241m.\u001b[39mfixed_vocabulary_)\n\u001b[1;32m   1385\u001b[0m \u001b[38;5;28;01mif\u001b[39;00m \u001b[38;5;28mself\u001b[39m\u001b[38;5;241m.\u001b[39mbinary:\n\u001b[1;32m   1386\u001b[0m     X\u001b[38;5;241m.\u001b[39mdata\u001b[38;5;241m.\u001b[39mfill(\u001b[38;5;241m1\u001b[39m)\n",
      "File \u001b[0;32m~/anaconda3/lib/python3.11/site-packages/sklearn/feature_extraction/text.py:1270\u001b[0m, in \u001b[0;36mCountVectorizer._count_vocab\u001b[0;34m(self, raw_documents, fixed_vocab)\u001b[0m\n\u001b[1;32m   1268\u001b[0m \u001b[38;5;28;01mfor\u001b[39;00m doc \u001b[38;5;129;01min\u001b[39;00m raw_documents:\n\u001b[1;32m   1269\u001b[0m     feature_counter \u001b[38;5;241m=\u001b[39m {}\n\u001b[0;32m-> 1270\u001b[0m     \u001b[38;5;28;01mfor\u001b[39;00m feature \u001b[38;5;129;01min\u001b[39;00m analyze(doc):\n\u001b[1;32m   1271\u001b[0m         \u001b[38;5;28;01mtry\u001b[39;00m:\n\u001b[1;32m   1272\u001b[0m             feature_idx \u001b[38;5;241m=\u001b[39m vocabulary[feature]\n",
      "File \u001b[0;32m~/anaconda3/lib/python3.11/site-packages/sklearn/feature_extraction/text.py:105\u001b[0m, in \u001b[0;36m_analyze\u001b[0;34m(doc, analyzer, tokenizer, ngrams, preprocessor, decoder, stop_words)\u001b[0m\n\u001b[1;32m     83\u001b[0m \u001b[38;5;250m\u001b[39m\u001b[38;5;124;03m\"\"\"Chain together an optional series of text processing steps to go from\u001b[39;00m\n\u001b[1;32m     84\u001b[0m \u001b[38;5;124;03ma single document to ngrams, with or without tokenizing or preprocessing.\u001b[39;00m\n\u001b[1;32m     85\u001b[0m \n\u001b[0;32m   (...)\u001b[0m\n\u001b[1;32m    101\u001b[0m \u001b[38;5;124;03m    A sequence of tokens, possibly with pairs, triples, etc.\u001b[39;00m\n\u001b[1;32m    102\u001b[0m \u001b[38;5;124;03m\"\"\"\u001b[39;00m\n\u001b[1;32m    104\u001b[0m \u001b[38;5;28;01mif\u001b[39;00m decoder \u001b[38;5;129;01mis\u001b[39;00m \u001b[38;5;129;01mnot\u001b[39;00m \u001b[38;5;28;01mNone\u001b[39;00m:\n\u001b[0;32m--> 105\u001b[0m     doc \u001b[38;5;241m=\u001b[39m decoder(doc)\n\u001b[1;32m    106\u001b[0m \u001b[38;5;28;01mif\u001b[39;00m analyzer \u001b[38;5;129;01mis\u001b[39;00m \u001b[38;5;129;01mnot\u001b[39;00m \u001b[38;5;28;01mNone\u001b[39;00m:\n\u001b[1;32m    107\u001b[0m     doc \u001b[38;5;241m=\u001b[39m analyzer(doc)\n",
      "File \u001b[0;32m~/anaconda3/lib/python3.11/site-packages/sklearn/feature_extraction/text.py:238\u001b[0m, in \u001b[0;36m_VectorizerMixin.decode\u001b[0;34m(self, doc)\u001b[0m\n\u001b[1;32m    235\u001b[0m     doc \u001b[38;5;241m=\u001b[39m doc\u001b[38;5;241m.\u001b[39mdecode(\u001b[38;5;28mself\u001b[39m\u001b[38;5;241m.\u001b[39mencoding, \u001b[38;5;28mself\u001b[39m\u001b[38;5;241m.\u001b[39mdecode_error)\n\u001b[1;32m    237\u001b[0m \u001b[38;5;28;01mif\u001b[39;00m doc \u001b[38;5;129;01mis\u001b[39;00m np\u001b[38;5;241m.\u001b[39mnan:\n\u001b[0;32m--> 238\u001b[0m     \u001b[38;5;28;01mraise\u001b[39;00m \u001b[38;5;167;01mValueError\u001b[39;00m(\n\u001b[1;32m    239\u001b[0m         \u001b[38;5;124m\"\u001b[39m\u001b[38;5;124mnp.nan is an invalid document, expected byte or unicode string.\u001b[39m\u001b[38;5;124m\"\u001b[39m\n\u001b[1;32m    240\u001b[0m     )\n\u001b[1;32m    242\u001b[0m \u001b[38;5;28;01mreturn\u001b[39;00m doc\n",
      "\u001b[0;31mValueError\u001b[0m: np.nan is an invalid document, expected byte or unicode string."
     ]
    }
   ],
   "source": [
    "naive_bayes = NaiveBayes()\n",
    "naive_bayes.fit(train)\n",
    "print(f\"Probability for each category: {naive_bayes.category_prob}\")\n",
    "print(f\"Length of self.ngram_count: {len(naive_bayes.ngram_count)}\")\n",
    "print(f\"Shape of the counts for 1st category: {naive_bayes.ngram_count[0].shape}\")\n",
    "print(f\"Number of non-zero terms for 1st category: {(naive_bayes.ngram_count[0] > 0).sum()}\")\n",
    "print(f\"Maximum count of the 1st category: {naive_bayes.ngram_count[0].max()}\")\n",
    "print(f\"Minimum count of the 1st category: {naive_bayes.ngram_count[0].min()}\")\n",
    "print(f\"Sum of ngram count for 1st category: {naive_bayes.ngram_count[0].sum()}\")\n",
    "print(f\"Total count for each category: {naive_bayes.total_count}\")"
   ]
  },
  {
   "cell_type": "markdown",
   "id": "blind-decimal",
   "metadata": {
    "id": "blind-decimal"
   },
   "source": [
    "### C.2.4 Calculate posterior probability for a category [4 points]\n",
    "Next, you will use the vectorizer and ngram counts to calculate the posterior probability of a category. In this homework, we have two categories: legitimate and clickbait. **Fill in** the function ```calculate_prob``` that given a list of articles $docs$, a category index $i$, return $\\log\\left(p(c_i)p(d|c_i)\\right)=\\log\\left(p(c_i)\\prod_{x\\in X}p(x|c_i)\\right)$ for each article $d$ in $docs$, where $X$ is the set of unigrams and bigrams in **both** article $d$ and vocabulary $V$.\n",
    "\n",
    "- Use **add-one smoothing** in your calculation.\n",
    "- Simply discard unseen unigrams/bigrams (do not use add-one smoothing to account for them).\n",
    "- Calculate the **sum of logarithms** to avoid issues with underflow."
   ]
  },
  {
   "cell_type": "code",
   "execution_count": 6,
   "id": "brave-determination",
   "metadata": {
    "id": "brave-determination"
   },
   "outputs": [
    {
     "name": "stdout",
     "output_type": "stream",
     "text": [
      "Probability for category 0: [-62.52129967 -70.58122794]\n",
      "Probability for category 1: [-78.10925023 -66.73064954]\n"
     ]
    }
   ],
   "source": [
    "test_docs = [\"United Kingdom officially exits the European Union\",\n",
    " \"How to Lose a Guy in 10 Days\"]\n",
    "prob1 = naive_bayes.calculate_prob(test_docs, 0)\n",
    "prob2 = naive_bayes.calculate_prob(test_docs, 1)\n",
    "print(f\"Probability for category 0: {prob1}\")\n",
    "print(f\"Probability for category 1: {prob2}\")"
   ]
  },
  {
   "cell_type": "markdown",
   "id": "occupied-sheep",
   "metadata": {
    "id": "occupied-sheep"
   },
   "source": [
    "### C.2.5 Predict labels for new headlines [2 points]\n",
    "With the posterior probability of each category, you can predict the label for new headlines. **Fill in** the function ```predict``` that, given a list of headlines, returns the predicted categories of the headlines."
   ]
  },
  {
   "cell_type": "code",
   "execution_count": 7,
   "id": "opposed-territory",
   "metadata": {
    "id": "opposed-territory"
   },
   "outputs": [
    {
     "name": "stdout",
     "output_type": "stream",
     "text": [
      "Prediction: [0, 1]\n"
     ]
    }
   ],
   "source": [
    "preds = naive_bayes.predict(test_docs)\n",
    "print(f\"Prediction: {preds}\")"
   ]
  },
  {
   "cell_type": "markdown",
   "id": "bronze-semester",
   "metadata": {
    "id": "bronze-semester"
   },
   "source": [
    "### C.2.6 Calculate evaluation metrics [5 points]\n",
    "To evaluate a classifier, you need to calculate some evaluation metrics. **Fill in** the function ```evaluate``` that, given a list of predictions and a list of true labels, returns the accuracy, macro f1-score, and micro f1-score. You can **NOT** use functions in sklearn."
   ]
  },
  {
   "cell_type": "code",
   "execution_count": 8,
   "id": "level-casino",
   "metadata": {
    "id": "level-casino"
   },
   "outputs": [
    {
     "name": "stdout",
     "output_type": "stream",
     "text": [
      "Accuracy: 0.7142857142857143\n",
      "Macro f1: 0.7083333333333333\n",
      "Micro f1: 0.7142857142857143\n"
     ]
    }
   ],
   "source": [
    "predictions = [1,1,0,1,0,0,1]\n",
    "labels = [1,0,0,1,0,1,1]\n",
    "accuracy, mac_f1, mic_f1 = evaluate(predictions, labels)\n",
    "print(f\"Accuracy: {accuracy}\")\n",
    "print(f\"Macro f1: {mac_f1}\")\n",
    "print(f\"Micro f1: {mic_f1}\")"
   ]
  },
  {
   "cell_type": "markdown",
   "id": "warming-corner",
   "metadata": {
    "id": "warming-corner"
   },
   "source": [
    "### C.2.7 Test classifier on test data [2 points]\n",
    "Finally, you are ready to evaluate your classifier on the test data! Run the following cell to make predictions and print out performance."
   ]
  },
  {
   "cell_type": "code",
   "execution_count": 20,
   "id": "amended-angle",
   "metadata": {
    "id": "amended-angle"
   },
   "outputs": [
    {
     "name": "stdout",
     "output_type": "stream",
     "text": [
      "Accuracy: 0.959\n",
      "Macro f1: 0.9589999589999589\n",
      "Micro f1: 0.959\n"
     ]
    }
   ],
   "source": [
    "predictions = naive_bayes.predict(test.text.tolist())\n",
    "labels = test.label.tolist()\n",
    "accuracy, mac_f1, mic_f1 = evaluate(predictions, labels)\n",
    "print(f\"Accuracy: {accuracy}\")\n",
    "print(f\"Macro f1: {mac_f1}\")\n",
    "print(f\"Micro f1: {mic_f1}\")"
   ]
  },
  {
   "cell_type": "code",
   "execution_count": null,
   "id": "17eabcd4",
   "metadata": {},
   "outputs": [],
   "source": []
  }
 ],
 "metadata": {
  "colab": {
   "provenance": []
  },
  "kernelspec": {
   "display_name": "Python 3 (ipykernel)",
   "language": "python",
   "name": "python3"
  },
  "language_info": {
   "codemirror_mode": {
    "name": "ipython",
    "version": 3
   },
   "file_extension": ".py",
   "mimetype": "text/x-python",
   "name": "python",
   "nbconvert_exporter": "python",
   "pygments_lexer": "ipython3",
   "version": "3.11.5"
  },
  "vscode": {
   "interpreter": {
    "hash": "40d3a090f54c6569ab1632332b64b2c03c39dcf918b08424e98f38b5ae0af88f"
   }
  }
 },
 "nbformat": 4,
 "nbformat_minor": 5
}
